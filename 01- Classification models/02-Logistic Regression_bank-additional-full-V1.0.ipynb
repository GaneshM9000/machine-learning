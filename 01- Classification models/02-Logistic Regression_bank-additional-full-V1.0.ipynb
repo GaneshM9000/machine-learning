{
 "cells": [
  {
   "cell_type": "code",
   "execution_count": 1,
   "id": "2c50ff7d",
   "metadata": {},
   "outputs": [],
   "source": [
    "# Importing the libraries \n",
    "\n",
    "import pandas as pd\n",
    "import numpy as np \n",
    "import matplotlib.pyplot as plt"
   ]
  },
  {
   "cell_type": "code",
   "execution_count": 2,
   "id": "7bd8b84a",
   "metadata": {},
   "outputs": [],
   "source": [
    "# Ignore harmless warnings \n",
    "\n",
    "import warnings \n",
    "warnings.filterwarnings(\"ignore\")"
   ]
  },
  {
   "cell_type": "code",
   "execution_count": 3,
   "id": "f4ac3401",
   "metadata": {},
   "outputs": [],
   "source": [
    "# Set to display all the columns in dataset\n",
    "\n",
    "pd.set_option(\"display.max_columns\", None)"
   ]
  },
  {
   "cell_type": "code",
   "execution_count": 5,
   "id": "b1b801ab",
   "metadata": {},
   "outputs": [
    {
     "data": {
      "text/html": [
       "<div>\n",
       "<style scoped>\n",
       "    .dataframe tbody tr th:only-of-type {\n",
       "        vertical-align: middle;\n",
       "    }\n",
       "\n",
       "    .dataframe tbody tr th {\n",
       "        vertical-align: top;\n",
       "    }\n",
       "\n",
       "    .dataframe thead th {\n",
       "        text-align: right;\n",
       "    }\n",
       "</style>\n",
       "<table border=\"1\" class=\"dataframe\">\n",
       "  <thead>\n",
       "    <tr style=\"text-align: right;\">\n",
       "      <th></th>\n",
       "      <th>age</th>\n",
       "      <th>job</th>\n",
       "      <th>marital</th>\n",
       "      <th>education</th>\n",
       "      <th>default</th>\n",
       "      <th>housing</th>\n",
       "      <th>loan</th>\n",
       "      <th>contact</th>\n",
       "      <th>month</th>\n",
       "      <th>day_of_week</th>\n",
       "      <th>duration</th>\n",
       "      <th>campaign</th>\n",
       "      <th>pdays</th>\n",
       "      <th>previous</th>\n",
       "      <th>poutcome</th>\n",
       "      <th>emp.var.rate</th>\n",
       "      <th>cons.price.idx</th>\n",
       "      <th>cons.conf.idx</th>\n",
       "      <th>euribor3m</th>\n",
       "      <th>nr.employed</th>\n",
       "      <th>Deposit</th>\n",
       "    </tr>\n",
       "  </thead>\n",
       "  <tbody>\n",
       "    <tr>\n",
       "      <th>0</th>\n",
       "      <td>56</td>\n",
       "      <td>housemaid</td>\n",
       "      <td>married</td>\n",
       "      <td>basic.4y</td>\n",
       "      <td>no</td>\n",
       "      <td>no</td>\n",
       "      <td>no</td>\n",
       "      <td>telephone</td>\n",
       "      <td>may</td>\n",
       "      <td>mon</td>\n",
       "      <td>261</td>\n",
       "      <td>1</td>\n",
       "      <td>999</td>\n",
       "      <td>0</td>\n",
       "      <td>nonexistent</td>\n",
       "      <td>1.1</td>\n",
       "      <td>93.994</td>\n",
       "      <td>-36.4</td>\n",
       "      <td>4.857</td>\n",
       "      <td>5191.0</td>\n",
       "      <td>no</td>\n",
       "    </tr>\n",
       "    <tr>\n",
       "      <th>1</th>\n",
       "      <td>57</td>\n",
       "      <td>services</td>\n",
       "      <td>married</td>\n",
       "      <td>high.school</td>\n",
       "      <td>unknown</td>\n",
       "      <td>no</td>\n",
       "      <td>no</td>\n",
       "      <td>telephone</td>\n",
       "      <td>may</td>\n",
       "      <td>mon</td>\n",
       "      <td>149</td>\n",
       "      <td>1</td>\n",
       "      <td>999</td>\n",
       "      <td>0</td>\n",
       "      <td>nonexistent</td>\n",
       "      <td>1.1</td>\n",
       "      <td>93.994</td>\n",
       "      <td>-36.4</td>\n",
       "      <td>4.857</td>\n",
       "      <td>5191.0</td>\n",
       "      <td>no</td>\n",
       "    </tr>\n",
       "    <tr>\n",
       "      <th>2</th>\n",
       "      <td>37</td>\n",
       "      <td>services</td>\n",
       "      <td>married</td>\n",
       "      <td>high.school</td>\n",
       "      <td>no</td>\n",
       "      <td>yes</td>\n",
       "      <td>no</td>\n",
       "      <td>telephone</td>\n",
       "      <td>may</td>\n",
       "      <td>mon</td>\n",
       "      <td>226</td>\n",
       "      <td>1</td>\n",
       "      <td>999</td>\n",
       "      <td>0</td>\n",
       "      <td>nonexistent</td>\n",
       "      <td>1.1</td>\n",
       "      <td>93.994</td>\n",
       "      <td>-36.4</td>\n",
       "      <td>4.857</td>\n",
       "      <td>5191.0</td>\n",
       "      <td>no</td>\n",
       "    </tr>\n",
       "    <tr>\n",
       "      <th>3</th>\n",
       "      <td>40</td>\n",
       "      <td>admin.</td>\n",
       "      <td>married</td>\n",
       "      <td>basic.6y</td>\n",
       "      <td>no</td>\n",
       "      <td>no</td>\n",
       "      <td>no</td>\n",
       "      <td>telephone</td>\n",
       "      <td>may</td>\n",
       "      <td>mon</td>\n",
       "      <td>151</td>\n",
       "      <td>1</td>\n",
       "      <td>999</td>\n",
       "      <td>0</td>\n",
       "      <td>nonexistent</td>\n",
       "      <td>1.1</td>\n",
       "      <td>93.994</td>\n",
       "      <td>-36.4</td>\n",
       "      <td>4.857</td>\n",
       "      <td>5191.0</td>\n",
       "      <td>no</td>\n",
       "    </tr>\n",
       "    <tr>\n",
       "      <th>4</th>\n",
       "      <td>56</td>\n",
       "      <td>services</td>\n",
       "      <td>married</td>\n",
       "      <td>high.school</td>\n",
       "      <td>no</td>\n",
       "      <td>no</td>\n",
       "      <td>yes</td>\n",
       "      <td>telephone</td>\n",
       "      <td>may</td>\n",
       "      <td>mon</td>\n",
       "      <td>307</td>\n",
       "      <td>1</td>\n",
       "      <td>999</td>\n",
       "      <td>0</td>\n",
       "      <td>nonexistent</td>\n",
       "      <td>1.1</td>\n",
       "      <td>93.994</td>\n",
       "      <td>-36.4</td>\n",
       "      <td>4.857</td>\n",
       "      <td>5191.0</td>\n",
       "      <td>no</td>\n",
       "    </tr>\n",
       "  </tbody>\n",
       "</table>\n",
       "</div>"
      ],
      "text/plain": [
       "   age        job  marital    education  default housing loan    contact  \\\n",
       "0   56  housemaid  married     basic.4y       no      no   no  telephone   \n",
       "1   57   services  married  high.school  unknown      no   no  telephone   \n",
       "2   37   services  married  high.school       no     yes   no  telephone   \n",
       "3   40     admin.  married     basic.6y       no      no   no  telephone   \n",
       "4   56   services  married  high.school       no      no  yes  telephone   \n",
       "\n",
       "  month day_of_week  duration  campaign  pdays  previous     poutcome  \\\n",
       "0   may         mon       261         1    999         0  nonexistent   \n",
       "1   may         mon       149         1    999         0  nonexistent   \n",
       "2   may         mon       226         1    999         0  nonexistent   \n",
       "3   may         mon       151         1    999         0  nonexistent   \n",
       "4   may         mon       307         1    999         0  nonexistent   \n",
       "\n",
       "   emp.var.rate  cons.price.idx  cons.conf.idx  euribor3m  nr.employed Deposit  \n",
       "0           1.1          93.994          -36.4      4.857       5191.0      no  \n",
       "1           1.1          93.994          -36.4      4.857       5191.0      no  \n",
       "2           1.1          93.994          -36.4      4.857       5191.0      no  \n",
       "3           1.1          93.994          -36.4      4.857       5191.0      no  \n",
       "4           1.1          93.994          -36.4      4.857       5191.0      no  "
      ]
     },
     "execution_count": 5,
     "metadata": {},
     "output_type": "execute_result"
    }
   ],
   "source": [
    "# Load the Bank Marketing Campaign (BMC) data\n",
    "\n",
    "BMCdata = pd.read_csv(r\"C:\\Users\\Admin\\Downloads\\Raju Sir DLS\\bank-additional-full-V1.0.csv\", header=0)\n",
    "BMCdata.head()"
   ]
  },
  {
   "cell_type": "code",
   "execution_count": 6,
   "id": "21b12fa4",
   "metadata": {},
   "outputs": [
    {
     "name": "stdout",
     "output_type": "stream",
     "text": [
      "<class 'pandas.core.frame.DataFrame'>\n",
      "RangeIndex: 41188 entries, 0 to 41187\n",
      "Data columns (total 21 columns):\n",
      " #   Column          Non-Null Count  Dtype  \n",
      "---  ------          --------------  -----  \n",
      " 0   age             41188 non-null  int64  \n",
      " 1   job             41188 non-null  object \n",
      " 2   marital         41188 non-null  object \n",
      " 3   education       41188 non-null  object \n",
      " 4   default         41188 non-null  object \n",
      " 5   housing         41188 non-null  object \n",
      " 6   loan            41188 non-null  object \n",
      " 7   contact         41188 non-null  object \n",
      " 8   month           41188 non-null  object \n",
      " 9   day_of_week     41188 non-null  object \n",
      " 10  duration        41188 non-null  int64  \n",
      " 11  campaign        41188 non-null  int64  \n",
      " 12  pdays           41188 non-null  int64  \n",
      " 13  previous        41188 non-null  int64  \n",
      " 14  poutcome        41188 non-null  object \n",
      " 15  emp.var.rate    41188 non-null  float64\n",
      " 16  cons.price.idx  41188 non-null  float64\n",
      " 17  cons.conf.idx   41188 non-null  float64\n",
      " 18  euribor3m       41188 non-null  float64\n",
      " 19  nr.employed     41188 non-null  float64\n",
      " 20  Deposit         41188 non-null  object \n",
      "dtypes: float64(5), int64(5), object(11)\n",
      "memory usage: 6.6+ MB\n"
     ]
    }
   ],
   "source": [
    "# Display the dataset information\n",
    "\n",
    "BMCdata.info()"
   ]
  },
  {
   "cell_type": "code",
   "execution_count": 7,
   "id": "036d2f03",
   "metadata": {},
   "outputs": [
    {
     "data": {
      "text/plain": [
       "age                 78\n",
       "job                 12\n",
       "marital              4\n",
       "education            8\n",
       "default              3\n",
       "housing              3\n",
       "loan                 3\n",
       "contact              2\n",
       "month               10\n",
       "day_of_week          5\n",
       "duration          1544\n",
       "campaign            42\n",
       "pdays               27\n",
       "previous             8\n",
       "poutcome             3\n",
       "emp.var.rate        10\n",
       "cons.price.idx      26\n",
       "cons.conf.idx       26\n",
       "euribor3m          316\n",
       "nr.employed         11\n",
       "Deposit              2\n",
       "dtype: int64"
      ]
     },
     "execution_count": 7,
     "metadata": {},
     "output_type": "execute_result"
    }
   ],
   "source": [
    "# Display unique values counts for each variable\n",
    "\n",
    "BMCdata.nunique()"
   ]
  },
  {
   "cell_type": "code",
   "execution_count": 8,
   "id": "51f7c146",
   "metadata": {},
   "outputs": [],
   "source": [
    "# Replace target variable 'Deposit', 'Yes' to 1 and 'No' to 0 and # convert the 'y' to integer value.\n",
    "\n",
    "BMCdata['Deposit'] = BMCdata['Deposit'].str.replace('yes', '1')\n",
    "BMCdata['Deposit'] = BMCdata['Deposit'].str.replace('no', '0')\n",
    "BMCdata['Deposit'] = BMCdata['Deposit'].astype(int)"
   ]
  },
  {
   "cell_type": "code",
   "execution_count": 9,
   "id": "25003008",
   "metadata": {},
   "outputs": [
    {
     "name": "stdout",
     "output_type": "stream",
     "text": [
      "Class 0: 36548\n",
      "Class 1: 4640\n",
      "Proportion: 7.88 : 1\n",
      "Total CC Trans: 41188\n"
     ]
    }
   ],
   "source": [
    "# Count the target or dependent variable by '0' & '1' and \n",
    "# their proportion (>9: 1, then the dataset is imbalance dataset)\n",
    "\n",
    "BMCdata_count = BMCdata.Deposit.value_counts()\n",
    "print('Class 0:', BMCdata_count[0])\n",
    "print('Class 1:', BMCdata_count[1])\n",
    "print('Proportion:', round(BMCdata_count[0] / BMCdata_count[1], 2), ': 1')\n",
    "print('Total CC Trans:', len(BMCdata))"
   ]
  },
  {
   "cell_type": "code",
   "execution_count": 10,
   "id": "9338d2c2",
   "metadata": {},
   "outputs": [
    {
     "data": {
      "text/html": [
       "<div>\n",
       "<style scoped>\n",
       "    .dataframe tbody tr th:only-of-type {\n",
       "        vertical-align: middle;\n",
       "    }\n",
       "\n",
       "    .dataframe tbody tr th {\n",
       "        vertical-align: top;\n",
       "    }\n",
       "\n",
       "    .dataframe thead th {\n",
       "        text-align: right;\n",
       "    }\n",
       "</style>\n",
       "<table border=\"1\" class=\"dataframe\">\n",
       "  <thead>\n",
       "    <tr style=\"text-align: right;\">\n",
       "      <th></th>\n",
       "      <th>age</th>\n",
       "      <th>job</th>\n",
       "      <th>marital</th>\n",
       "      <th>education</th>\n",
       "      <th>default</th>\n",
       "      <th>housing</th>\n",
       "      <th>loan</th>\n",
       "      <th>contact</th>\n",
       "      <th>month</th>\n",
       "      <th>day_of_week</th>\n",
       "      <th>duration</th>\n",
       "      <th>campaign</th>\n",
       "      <th>pdays</th>\n",
       "      <th>previous</th>\n",
       "      <th>poutcome</th>\n",
       "      <th>emp.var.rate</th>\n",
       "      <th>cons.price.idx</th>\n",
       "      <th>cons.conf.idx</th>\n",
       "      <th>euribor3m</th>\n",
       "      <th>nr.employed</th>\n",
       "      <th>Deposit</th>\n",
       "    </tr>\n",
       "  </thead>\n",
       "  <tbody>\n",
       "    <tr>\n",
       "      <th>1265</th>\n",
       "      <td>39</td>\n",
       "      <td>blue-collar</td>\n",
       "      <td>married</td>\n",
       "      <td>basic.6y</td>\n",
       "      <td>no</td>\n",
       "      <td>no</td>\n",
       "      <td>no</td>\n",
       "      <td>telephone</td>\n",
       "      <td>may</td>\n",
       "      <td>thu</td>\n",
       "      <td>124</td>\n",
       "      <td>1</td>\n",
       "      <td>999</td>\n",
       "      <td>0</td>\n",
       "      <td>nonexistent</td>\n",
       "      <td>1.1</td>\n",
       "      <td>93.994</td>\n",
       "      <td>-36.4</td>\n",
       "      <td>4.855</td>\n",
       "      <td>5191.0</td>\n",
       "      <td>0</td>\n",
       "    </tr>\n",
       "    <tr>\n",
       "      <th>12260</th>\n",
       "      <td>36</td>\n",
       "      <td>retired</td>\n",
       "      <td>married</td>\n",
       "      <td>unknown</td>\n",
       "      <td>no</td>\n",
       "      <td>no</td>\n",
       "      <td>no</td>\n",
       "      <td>telephone</td>\n",
       "      <td>jul</td>\n",
       "      <td>thu</td>\n",
       "      <td>88</td>\n",
       "      <td>1</td>\n",
       "      <td>999</td>\n",
       "      <td>0</td>\n",
       "      <td>nonexistent</td>\n",
       "      <td>1.4</td>\n",
       "      <td>93.918</td>\n",
       "      <td>-42.7</td>\n",
       "      <td>4.966</td>\n",
       "      <td>5228.1</td>\n",
       "      <td>0</td>\n",
       "    </tr>\n",
       "    <tr>\n",
       "      <th>14155</th>\n",
       "      <td>27</td>\n",
       "      <td>technician</td>\n",
       "      <td>single</td>\n",
       "      <td>professional.course</td>\n",
       "      <td>no</td>\n",
       "      <td>no</td>\n",
       "      <td>no</td>\n",
       "      <td>cellular</td>\n",
       "      <td>jul</td>\n",
       "      <td>mon</td>\n",
       "      <td>331</td>\n",
       "      <td>2</td>\n",
       "      <td>999</td>\n",
       "      <td>0</td>\n",
       "      <td>nonexistent</td>\n",
       "      <td>1.4</td>\n",
       "      <td>93.918</td>\n",
       "      <td>-42.7</td>\n",
       "      <td>4.962</td>\n",
       "      <td>5228.1</td>\n",
       "      <td>0</td>\n",
       "    </tr>\n",
       "    <tr>\n",
       "      <th>16819</th>\n",
       "      <td>47</td>\n",
       "      <td>technician</td>\n",
       "      <td>divorced</td>\n",
       "      <td>high.school</td>\n",
       "      <td>no</td>\n",
       "      <td>yes</td>\n",
       "      <td>no</td>\n",
       "      <td>cellular</td>\n",
       "      <td>jul</td>\n",
       "      <td>thu</td>\n",
       "      <td>43</td>\n",
       "      <td>3</td>\n",
       "      <td>999</td>\n",
       "      <td>0</td>\n",
       "      <td>nonexistent</td>\n",
       "      <td>1.4</td>\n",
       "      <td>93.918</td>\n",
       "      <td>-42.7</td>\n",
       "      <td>4.962</td>\n",
       "      <td>5228.1</td>\n",
       "      <td>0</td>\n",
       "    </tr>\n",
       "    <tr>\n",
       "      <th>18464</th>\n",
       "      <td>32</td>\n",
       "      <td>technician</td>\n",
       "      <td>single</td>\n",
       "      <td>professional.course</td>\n",
       "      <td>no</td>\n",
       "      <td>yes</td>\n",
       "      <td>no</td>\n",
       "      <td>cellular</td>\n",
       "      <td>jul</td>\n",
       "      <td>thu</td>\n",
       "      <td>128</td>\n",
       "      <td>1</td>\n",
       "      <td>999</td>\n",
       "      <td>0</td>\n",
       "      <td>nonexistent</td>\n",
       "      <td>1.4</td>\n",
       "      <td>93.918</td>\n",
       "      <td>-42.7</td>\n",
       "      <td>4.968</td>\n",
       "      <td>5228.1</td>\n",
       "      <td>0</td>\n",
       "    </tr>\n",
       "    <tr>\n",
       "      <th>20072</th>\n",
       "      <td>55</td>\n",
       "      <td>services</td>\n",
       "      <td>married</td>\n",
       "      <td>high.school</td>\n",
       "      <td>unknown</td>\n",
       "      <td>no</td>\n",
       "      <td>no</td>\n",
       "      <td>cellular</td>\n",
       "      <td>aug</td>\n",
       "      <td>mon</td>\n",
       "      <td>33</td>\n",
       "      <td>1</td>\n",
       "      <td>999</td>\n",
       "      <td>0</td>\n",
       "      <td>nonexistent</td>\n",
       "      <td>1.4</td>\n",
       "      <td>93.444</td>\n",
       "      <td>-36.1</td>\n",
       "      <td>4.965</td>\n",
       "      <td>5228.1</td>\n",
       "      <td>0</td>\n",
       "    </tr>\n",
       "    <tr>\n",
       "      <th>20531</th>\n",
       "      <td>41</td>\n",
       "      <td>technician</td>\n",
       "      <td>married</td>\n",
       "      <td>professional.course</td>\n",
       "      <td>no</td>\n",
       "      <td>yes</td>\n",
       "      <td>no</td>\n",
       "      <td>cellular</td>\n",
       "      <td>aug</td>\n",
       "      <td>tue</td>\n",
       "      <td>127</td>\n",
       "      <td>1</td>\n",
       "      <td>999</td>\n",
       "      <td>0</td>\n",
       "      <td>nonexistent</td>\n",
       "      <td>1.4</td>\n",
       "      <td>93.444</td>\n",
       "      <td>-36.1</td>\n",
       "      <td>4.966</td>\n",
       "      <td>5228.1</td>\n",
       "      <td>0</td>\n",
       "    </tr>\n",
       "    <tr>\n",
       "      <th>25183</th>\n",
       "      <td>39</td>\n",
       "      <td>admin.</td>\n",
       "      <td>married</td>\n",
       "      <td>university.degree</td>\n",
       "      <td>no</td>\n",
       "      <td>no</td>\n",
       "      <td>no</td>\n",
       "      <td>cellular</td>\n",
       "      <td>nov</td>\n",
       "      <td>tue</td>\n",
       "      <td>123</td>\n",
       "      <td>2</td>\n",
       "      <td>999</td>\n",
       "      <td>0</td>\n",
       "      <td>nonexistent</td>\n",
       "      <td>-0.1</td>\n",
       "      <td>93.200</td>\n",
       "      <td>-42.0</td>\n",
       "      <td>4.153</td>\n",
       "      <td>5195.8</td>\n",
       "      <td>0</td>\n",
       "    </tr>\n",
       "    <tr>\n",
       "      <th>28476</th>\n",
       "      <td>24</td>\n",
       "      <td>services</td>\n",
       "      <td>single</td>\n",
       "      <td>high.school</td>\n",
       "      <td>no</td>\n",
       "      <td>yes</td>\n",
       "      <td>no</td>\n",
       "      <td>cellular</td>\n",
       "      <td>apr</td>\n",
       "      <td>tue</td>\n",
       "      <td>114</td>\n",
       "      <td>1</td>\n",
       "      <td>999</td>\n",
       "      <td>0</td>\n",
       "      <td>nonexistent</td>\n",
       "      <td>-1.8</td>\n",
       "      <td>93.075</td>\n",
       "      <td>-47.1</td>\n",
       "      <td>1.423</td>\n",
       "      <td>5099.1</td>\n",
       "      <td>0</td>\n",
       "    </tr>\n",
       "    <tr>\n",
       "      <th>32505</th>\n",
       "      <td>35</td>\n",
       "      <td>admin.</td>\n",
       "      <td>married</td>\n",
       "      <td>university.degree</td>\n",
       "      <td>no</td>\n",
       "      <td>yes</td>\n",
       "      <td>no</td>\n",
       "      <td>cellular</td>\n",
       "      <td>may</td>\n",
       "      <td>fri</td>\n",
       "      <td>348</td>\n",
       "      <td>4</td>\n",
       "      <td>999</td>\n",
       "      <td>0</td>\n",
       "      <td>nonexistent</td>\n",
       "      <td>-1.8</td>\n",
       "      <td>92.893</td>\n",
       "      <td>-46.2</td>\n",
       "      <td>1.313</td>\n",
       "      <td>5099.1</td>\n",
       "      <td>0</td>\n",
       "    </tr>\n",
       "    <tr>\n",
       "      <th>36950</th>\n",
       "      <td>45</td>\n",
       "      <td>admin.</td>\n",
       "      <td>married</td>\n",
       "      <td>university.degree</td>\n",
       "      <td>no</td>\n",
       "      <td>no</td>\n",
       "      <td>no</td>\n",
       "      <td>cellular</td>\n",
       "      <td>jul</td>\n",
       "      <td>thu</td>\n",
       "      <td>252</td>\n",
       "      <td>1</td>\n",
       "      <td>999</td>\n",
       "      <td>0</td>\n",
       "      <td>nonexistent</td>\n",
       "      <td>-2.9</td>\n",
       "      <td>92.469</td>\n",
       "      <td>-33.6</td>\n",
       "      <td>1.072</td>\n",
       "      <td>5076.2</td>\n",
       "      <td>1</td>\n",
       "    </tr>\n",
       "    <tr>\n",
       "      <th>38255</th>\n",
       "      <td>71</td>\n",
       "      <td>retired</td>\n",
       "      <td>single</td>\n",
       "      <td>university.degree</td>\n",
       "      <td>no</td>\n",
       "      <td>no</td>\n",
       "      <td>no</td>\n",
       "      <td>telephone</td>\n",
       "      <td>oct</td>\n",
       "      <td>tue</td>\n",
       "      <td>120</td>\n",
       "      <td>1</td>\n",
       "      <td>999</td>\n",
       "      <td>0</td>\n",
       "      <td>nonexistent</td>\n",
       "      <td>-3.4</td>\n",
       "      <td>92.431</td>\n",
       "      <td>-26.9</td>\n",
       "      <td>0.742</td>\n",
       "      <td>5017.5</td>\n",
       "      <td>0</td>\n",
       "    </tr>\n",
       "  </tbody>\n",
       "</table>\n",
       "</div>"
      ],
      "text/plain": [
       "       age          job   marital            education  default housing loan  \\\n",
       "1265    39  blue-collar   married             basic.6y       no      no   no   \n",
       "12260   36      retired   married              unknown       no      no   no   \n",
       "14155   27   technician    single  professional.course       no      no   no   \n",
       "16819   47   technician  divorced          high.school       no     yes   no   \n",
       "18464   32   technician    single  professional.course       no     yes   no   \n",
       "20072   55     services   married          high.school  unknown      no   no   \n",
       "20531   41   technician   married  professional.course       no     yes   no   \n",
       "25183   39       admin.   married    university.degree       no      no   no   \n",
       "28476   24     services    single          high.school       no     yes   no   \n",
       "32505   35       admin.   married    university.degree       no     yes   no   \n",
       "36950   45       admin.   married    university.degree       no      no   no   \n",
       "38255   71      retired    single    university.degree       no      no   no   \n",
       "\n",
       "         contact month day_of_week  duration  campaign  pdays  previous  \\\n",
       "1265   telephone   may         thu       124         1    999         0   \n",
       "12260  telephone   jul         thu        88         1    999         0   \n",
       "14155   cellular   jul         mon       331         2    999         0   \n",
       "16819   cellular   jul         thu        43         3    999         0   \n",
       "18464   cellular   jul         thu       128         1    999         0   \n",
       "20072   cellular   aug         mon        33         1    999         0   \n",
       "20531   cellular   aug         tue       127         1    999         0   \n",
       "25183   cellular   nov         tue       123         2    999         0   \n",
       "28476   cellular   apr         tue       114         1    999         0   \n",
       "32505   cellular   may         fri       348         4    999         0   \n",
       "36950   cellular   jul         thu       252         1    999         0   \n",
       "38255  telephone   oct         tue       120         1    999         0   \n",
       "\n",
       "          poutcome  emp.var.rate  cons.price.idx  cons.conf.idx  euribor3m  \\\n",
       "1265   nonexistent           1.1          93.994          -36.4      4.855   \n",
       "12260  nonexistent           1.4          93.918          -42.7      4.966   \n",
       "14155  nonexistent           1.4          93.918          -42.7      4.962   \n",
       "16819  nonexistent           1.4          93.918          -42.7      4.962   \n",
       "18464  nonexistent           1.4          93.918          -42.7      4.968   \n",
       "20072  nonexistent           1.4          93.444          -36.1      4.965   \n",
       "20531  nonexistent           1.4          93.444          -36.1      4.966   \n",
       "25183  nonexistent          -0.1          93.200          -42.0      4.153   \n",
       "28476  nonexistent          -1.8          93.075          -47.1      1.423   \n",
       "32505  nonexistent          -1.8          92.893          -46.2      1.313   \n",
       "36950  nonexistent          -2.9          92.469          -33.6      1.072   \n",
       "38255  nonexistent          -3.4          92.431          -26.9      0.742   \n",
       "\n",
       "       nr.employed  Deposit  \n",
       "1265        5191.0        0  \n",
       "12260       5228.1        0  \n",
       "14155       5228.1        0  \n",
       "16819       5228.1        0  \n",
       "18464       5228.1        0  \n",
       "20072       5228.1        0  \n",
       "20531       5228.1        0  \n",
       "25183       5195.8        0  \n",
       "28476       5099.1        0  \n",
       "32505       5099.1        0  \n",
       "36950       5076.2        1  \n",
       "38255       5017.5        0  "
      ]
     },
     "execution_count": 10,
     "metadata": {},
     "output_type": "execute_result"
    }
   ],
   "source": [
    "# Displaying Duplicate values with in dataset\n",
    "\n",
    "BMCdata_dup = BMCdata[BMCdata.duplicated(keep='last')]\n",
    "BMCdata_dup"
   ]
  },
  {
   "cell_type": "code",
   "execution_count": 11,
   "id": "b2ed6ee3",
   "metadata": {},
   "outputs": [
    {
     "data": {
      "text/plain": [
       "(41176, 21)"
      ]
     },
     "execution_count": 11,
     "metadata": {},
     "output_type": "execute_result"
    }
   ],
   "source": [
    "# Remove the identified duplicate records \n",
    "\n",
    "BMCdata = BMCdata.drop_duplicates()\n",
    "BMCdata.shape"
   ]
  },
  {
   "cell_type": "code",
   "execution_count": 12,
   "id": "1cfdfb92",
   "metadata": {},
   "outputs": [],
   "source": [
    "# Re-setting the row index\n",
    "\n",
    "BMCdata = BMCdata.reset_index(drop=True)"
   ]
  },
  {
   "cell_type": "code",
   "execution_count": 13,
   "id": "c6ebac36",
   "metadata": {},
   "outputs": [
    {
     "name": "stdout",
     "output_type": "stream",
     "text": [
      "31    1947\n",
      "32    1845\n",
      "33    1833\n",
      "36    1779\n",
      "35    1758\n",
      "      ... \n",
      "89       2\n",
      "91       2\n",
      "94       1\n",
      "87       1\n",
      "95       1\n",
      "Name: age, Length: 78, dtype: int64\n",
      "admin.           10419\n",
      "blue-collar       9253\n",
      "technician        6739\n",
      "services          3967\n",
      "management        2924\n",
      "retired           1718\n",
      "entrepreneur      1456\n",
      "self-employed     1421\n",
      "housemaid         1060\n",
      "unemployed        1014\n",
      "student            875\n",
      "unknown            330\n",
      "Name: job, dtype: int64\n",
      "married     24921\n",
      "single      11564\n",
      "divorced     4611\n",
      "unknown        80\n",
      "Name: marital, dtype: int64\n",
      "university.degree      12164\n",
      "high.school             9512\n",
      "basic.9y                6045\n",
      "professional.course     5240\n",
      "basic.4y                4176\n",
      "basic.6y                2291\n",
      "unknown                 1730\n",
      "illiterate                18\n",
      "Name: education, dtype: int64\n",
      "no         32577\n",
      "unknown     8596\n",
      "yes            3\n",
      "Name: default, dtype: int64\n",
      "yes        21571\n",
      "no         18615\n",
      "unknown      990\n",
      "Name: housing, dtype: int64\n",
      "no         33938\n",
      "yes         6248\n",
      "unknown      990\n",
      "Name: loan, dtype: int64\n",
      "cellular     26135\n",
      "telephone    15041\n",
      "Name: contact, dtype: int64\n",
      "may    13767\n",
      "jul     7169\n",
      "aug     6176\n",
      "jun     5318\n",
      "nov     4100\n",
      "apr     2631\n",
      "oct      717\n",
      "sep      570\n",
      "mar      546\n",
      "dec      182\n",
      "Name: month, dtype: int64\n",
      "thu    8618\n",
      "mon    8512\n",
      "wed    8134\n",
      "tue    8086\n",
      "fri    7826\n",
      "Name: day_of_week, dtype: int64\n",
      "90      170\n",
      "85      170\n",
      "136     168\n",
      "73      167\n",
      "124     163\n",
      "       ... \n",
      "1569      1\n",
      "1053      1\n",
      "1263      1\n",
      "1169      1\n",
      "1868      1\n",
      "Name: duration, Length: 1544, dtype: int64\n",
      "1     17634\n",
      "2     10568\n",
      "3      5340\n",
      "4      2650\n",
      "5      1599\n",
      "6       979\n",
      "7       629\n",
      "8       400\n",
      "9       283\n",
      "10      225\n",
      "11      177\n",
      "12      125\n",
      "13       92\n",
      "14       69\n",
      "17       58\n",
      "16       51\n",
      "15       51\n",
      "18       33\n",
      "20       30\n",
      "19       26\n",
      "21       24\n",
      "22       17\n",
      "23       16\n",
      "24       15\n",
      "27       11\n",
      "29       10\n",
      "28        8\n",
      "26        8\n",
      "25        8\n",
      "31        7\n",
      "30        7\n",
      "35        5\n",
      "32        4\n",
      "33        4\n",
      "34        3\n",
      "42        2\n",
      "40        2\n",
      "43        2\n",
      "56        1\n",
      "39        1\n",
      "41        1\n",
      "37        1\n",
      "Name: campaign, dtype: int64\n",
      "999    39661\n",
      "3        439\n",
      "6        412\n",
      "4        118\n",
      "9         64\n",
      "2         61\n",
      "7         60\n",
      "12        58\n",
      "10        52\n",
      "5         46\n",
      "13        36\n",
      "11        28\n",
      "1         26\n",
      "15        24\n",
      "14        20\n",
      "8         18\n",
      "0         15\n",
      "16        11\n",
      "17         8\n",
      "18         7\n",
      "22         3\n",
      "19         3\n",
      "21         2\n",
      "25         1\n",
      "26         1\n",
      "27         1\n",
      "20         1\n",
      "Name: pdays, dtype: int64\n",
      "0    35551\n",
      "1     4561\n",
      "2      754\n",
      "3      216\n",
      "4       70\n",
      "5       18\n",
      "6        5\n",
      "7        1\n",
      "Name: previous, dtype: int64\n",
      "nonexistent    35551\n",
      "failure         4252\n",
      "success         1373\n",
      "Name: poutcome, dtype: int64\n",
      " 1.4    16228\n",
      "-1.8     9182\n",
      " 1.1     7762\n",
      "-0.1     3682\n",
      "-2.9     1662\n",
      "-3.4     1070\n",
      "-1.7      773\n",
      "-1.1      635\n",
      "-3.0      172\n",
      "-0.2       10\n",
      "Name: emp.var.rate, dtype: int64\n",
      "93.994    7762\n",
      "93.918    6681\n",
      "92.893    5793\n",
      "93.444    5173\n",
      "94.465    4374\n",
      "93.200    3615\n",
      "93.075    2457\n",
      "92.201     770\n",
      "92.963     715\n",
      "92.431     446\n",
      "92.649     357\n",
      "94.215     311\n",
      "94.199     303\n",
      "92.843     282\n",
      "92.379     267\n",
      "93.369     264\n",
      "94.027     233\n",
      "94.055     229\n",
      "93.876     212\n",
      "94.601     204\n",
      "92.469     177\n",
      "93.749     174\n",
      "92.713     172\n",
      "94.767     128\n",
      "93.798      67\n",
      "92.756      10\n",
      "Name: cons.price.idx, dtype: int64\n",
      "-36.4    7762\n",
      "-42.7    6681\n",
      "-46.2    5793\n",
      "-36.1    5173\n",
      "-41.8    4374\n",
      "-42.0    3615\n",
      "-47.1    2457\n",
      "-31.4     770\n",
      "-40.8     715\n",
      "-26.9     446\n",
      "-30.1     357\n",
      "-40.3     311\n",
      "-37.5     303\n",
      "-50.0     282\n",
      "-29.8     267\n",
      "-34.8     264\n",
      "-38.3     233\n",
      "-39.8     229\n",
      "-40.0     212\n",
      "-49.5     204\n",
      "-33.6     177\n",
      "-34.6     174\n",
      "-33.0     172\n",
      "-50.8     128\n",
      "-40.4      67\n",
      "-45.9      10\n",
      "Name: cons.conf.idx, dtype: int64\n",
      "4.857    2868\n",
      "4.962    2611\n",
      "4.963    2487\n",
      "4.961    1902\n",
      "4.856    1210\n",
      "         ... \n",
      "3.853       1\n",
      "3.901       1\n",
      "0.969       1\n",
      "0.956       1\n",
      "3.669       1\n",
      "Name: euribor3m, Length: 316, dtype: int64\n",
      "5228.1    16228\n",
      "5099.1     8532\n",
      "5191.0     7762\n",
      "5195.8     3682\n",
      "5076.2     1662\n",
      "5017.5     1070\n",
      "4991.6      773\n",
      "5008.7      650\n",
      "4963.6      635\n",
      "5023.5      172\n",
      "5176.3       10\n",
      "Name: nr.employed, dtype: int64\n",
      "0    36537\n",
      "1     4639\n",
      "Name: Deposit, dtype: int64\n"
     ]
    }
   ],
   "source": [
    "# Display the data by variables wise\n",
    "\n",
    "for i in BMCdata.columns:\n",
    "    print(BMCdata[i].value_counts())"
   ]
  },
  {
   "cell_type": "code",
   "execution_count": 14,
   "id": "0ce4ca23",
   "metadata": {},
   "outputs": [
    {
     "data": {
      "text/plain": [
       "yes        21571\n",
       "no         18615\n",
       "unknown      990\n",
       "Name: housing, dtype: int64"
      ]
     },
     "execution_count": 14,
     "metadata": {},
     "output_type": "execute_result"
    }
   ],
   "source": [
    "# Display 'Housing' categorical variable \n",
    "\n",
    "BMCdata['housing'].value_counts()"
   ]
  },
  {
   "cell_type": "code",
   "execution_count": 15,
   "id": "94d697c8",
   "metadata": {},
   "outputs": [],
   "source": [
    "# Replace 'housing' variable and convert the 'housing' to integer value.\n",
    "\n",
    "BMCdata['housing'] = BMCdata['housing'].str.replace('yes', '1')\n",
    "BMCdata['housing'] = BMCdata['housing'].str.replace('no', '0')\n",
    "BMCdata['housing'] = BMCdata['housing'].str.replace('unk0wn', '0')\n",
    "BMCdata['housing'] = BMCdata['housing'].astype(int)"
   ]
  },
  {
   "cell_type": "code",
   "execution_count": 16,
   "id": "5a86dbbf",
   "metadata": {},
   "outputs": [
    {
     "data": {
      "text/plain": [
       "1    21571\n",
       "0    19605\n",
       "Name: housing, dtype: int64"
      ]
     },
     "execution_count": 16,
     "metadata": {},
     "output_type": "execute_result"
    }
   ],
   "source": [
    "BMCdata['housing'].value_counts()"
   ]
  },
  {
   "cell_type": "code",
   "execution_count": 17,
   "id": "7a32cd5d",
   "metadata": {},
   "outputs": [
    {
     "data": {
      "text/plain": [
       "no         33938\n",
       "yes         6248\n",
       "unknown      990\n",
       "Name: loan, dtype: int64"
      ]
     },
     "execution_count": 17,
     "metadata": {},
     "output_type": "execute_result"
    }
   ],
   "source": [
    "# Display 'loan' categorical variable \n",
    "\n",
    "BMCdata['loan'].value_counts()"
   ]
  },
  {
   "cell_type": "code",
   "execution_count": 18,
   "id": "4a17ddf4",
   "metadata": {},
   "outputs": [],
   "source": [
    "# Replace 'loan' variable, and convert the 'loan' to integer value.\n",
    "\n",
    "BMCdata['loan'] = BMCdata['loan'].str.replace('yes', '1')\n",
    "BMCdata['loan'] = BMCdata['loan'].str.replace('no', '0')\n",
    "BMCdata['loan'] = BMCdata['loan'].str.replace('unk0wn', '0')\n",
    "BMCdata['loan'] = BMCdata['loan'].astype(int)"
   ]
  },
  {
   "cell_type": "code",
   "execution_count": 19,
   "id": "fdbbeb2e",
   "metadata": {},
   "outputs": [
    {
     "data": {
      "text/plain": [
       "admin.           10419\n",
       "blue-collar       9253\n",
       "technician        6739\n",
       "services          3967\n",
       "management        2924\n",
       "retired           1718\n",
       "entrepreneur      1456\n",
       "self-employed     1421\n",
       "housemaid         1060\n",
       "unemployed        1014\n",
       "student            875\n",
       "unknown            330\n",
       "Name: job, dtype: int64"
      ]
     },
     "execution_count": 19,
     "metadata": {},
     "output_type": "execute_result"
    }
   ],
   "source": [
    "# Display 'job' categorical variable \n",
    "\n",
    "BMCdata['job'].value_counts()"
   ]
  },
  {
   "cell_type": "code",
   "execution_count": 20,
   "id": "b14748b0",
   "metadata": {},
   "outputs": [],
   "source": [
    "# Replace 'job' variable, and convert the 'loan' to integer value.\n",
    "\n",
    "BMCdata['job'] = BMCdata['job'].str.replace('admin.', '3')\n",
    "BMCdata['job'] = BMCdata['job'].str.replace('blue-collar', '4')\n",
    "BMCdata['job'] = BMCdata['job'].str.replace('technician', '3')\n",
    "BMCdata['job'] = BMCdata['job'].str.replace('services', '2')\n",
    "BMCdata['job'] = BMCdata['job'].str.replace('management', '4')\n",
    "BMCdata['job'] = BMCdata['job'].str.replace('retired', '3')\n",
    "BMCdata['job'] = BMCdata['job'].str.replace('entrepreneur', '5')\n",
    "BMCdata['job'] = BMCdata['job'].str.replace('self-employed', '2')\n",
    "BMCdata['job'] = BMCdata['job'].str.replace('housemaid', '1')\n",
    "BMCdata['job'] = BMCdata['job'].str.replace('unemployed', '0')\n",
    "BMCdata['job'] = BMCdata['job'].str.replace('student', '0')\n",
    "BMCdata['job'] = BMCdata['job'].str.replace('unknown', '0')\n",
    "BMCdata['job'] = BMCdata['job'].astype(int)"
   ]
  },
  {
   "cell_type": "code",
   "execution_count": 21,
   "id": "29cd6124",
   "metadata": {},
   "outputs": [
    {
     "data": {
      "text/plain": [
       "university.degree      12164\n",
       "high.school             9512\n",
       "basic.9y                6045\n",
       "professional.course     5240\n",
       "basic.4y                4176\n",
       "basic.6y                2291\n",
       "unknown                 1730\n",
       "illiterate                18\n",
       "Name: education, dtype: int64"
      ]
     },
     "execution_count": 21,
     "metadata": {},
     "output_type": "execute_result"
    }
   ],
   "source": [
    "# Display 'education' categorical variable \n",
    "\n",
    "BMCdata['education'].value_counts()"
   ]
  },
  {
   "cell_type": "code",
   "execution_count": 22,
   "id": "166b43f5",
   "metadata": {},
   "outputs": [],
   "source": [
    "# Replace the variable 'education', convert the 'education' to integer value.\n",
    "\n",
    "BMCdata['education'] = BMCdata['education'].str.replace('illiterate', '1')\n",
    "BMCdata['education'] = BMCdata['education'].str.replace('unknown', '1')\n",
    "BMCdata['education'] = BMCdata['education'].str.replace('basic.4y', '2')\n",
    "BMCdata['education'] = BMCdata['education'].str.replace('basic.6y', '2')\n",
    "BMCdata['education'] = BMCdata['education'].str.replace('basic.9y', '2')\n",
    "BMCdata['education'] = BMCdata['education'].str.replace('high.school', '3')\n",
    "BMCdata['education'] = BMCdata['education'].str.replace('professional.course', '4')\n",
    "BMCdata['education'] = BMCdata['education'].str.replace('university.degree', '5')\n",
    "BMCdata['education'] = BMCdata['education'].astype(int)"
   ]
  },
  {
   "cell_type": "code",
   "execution_count": 23,
   "id": "265c7f48",
   "metadata": {},
   "outputs": [
    {
     "data": {
      "text/plain": [
       "married     24921\n",
       "single      11564\n",
       "divorced     4611\n",
       "unknown        80\n",
       "Name: marital, dtype: int64"
      ]
     },
     "execution_count": 23,
     "metadata": {},
     "output_type": "execute_result"
    }
   ],
   "source": [
    "# Display 'marital' categorical variable \n",
    "\n",
    "BMCdata['marital'].value_counts()"
   ]
  },
  {
   "cell_type": "code",
   "execution_count": 24,
   "id": "6ef50131",
   "metadata": {},
   "outputs": [],
   "source": [
    "# Replace variable 'marital', and convert the 'marital' to integer value.\n",
    "\n",
    "BMCdata['marital'] = BMCdata['marital'].str.replace('single', '1')\n",
    "BMCdata['marital'] = BMCdata['marital'].str.replace('married', '2')\n",
    "BMCdata['marital'] = BMCdata['marital'].str.replace('divorced', '3')\n",
    "BMCdata['marital'] = BMCdata['marital'].str.replace('unknown', '1')\n",
    "BMCdata['marital'] = BMCdata['marital'].astype(int)"
   ]
  },
  {
   "cell_type": "code",
   "execution_count": 25,
   "id": "797f4828",
   "metadata": {},
   "outputs": [
    {
     "data": {
      "text/plain": [
       "no         32577\n",
       "unknown     8596\n",
       "yes            3\n",
       "Name: default, dtype: int64"
      ]
     },
     "execution_count": 25,
     "metadata": {},
     "output_type": "execute_result"
    }
   ],
   "source": [
    "# Display 'default' categorical variable \n",
    "BMCdata['default'].value_counts()"
   ]
  },
  {
   "cell_type": "code",
   "execution_count": 26,
   "id": "2b97309c",
   "metadata": {},
   "outputs": [],
   "source": [
    "# Replace variable 'default', and convert the 'default' to integer value.\n",
    "\n",
    "BMCdata['default'] = BMCdata['default'].str.replace('yes', '1')\n",
    "BMCdata['default'] = BMCdata['default'].str.replace('no', '0')\n",
    "BMCdata['default'] = BMCdata['default'].str.replace('unk0wn', '0')\n",
    "BMCdata['default'] = BMCdata['default'].astype(int)"
   ]
  },
  {
   "cell_type": "code",
   "execution_count": 27,
   "id": "5177698d",
   "metadata": {},
   "outputs": [],
   "source": [
    "# Delete 'default' bcoz it may not infulence the target\n",
    "\n",
    "del BMCdata['default']"
   ]
  },
  {
   "cell_type": "code",
   "execution_count": 28,
   "id": "16cd930f",
   "metadata": {},
   "outputs": [
    {
     "data": {
      "text/plain": [
       "cellular     26135\n",
       "telephone    15041\n",
       "Name: contact, dtype: int64"
      ]
     },
     "execution_count": 28,
     "metadata": {},
     "output_type": "execute_result"
    }
   ],
   "source": [
    "# Display 'contact' categorical variable \n",
    "\n",
    "BMCdata['contact'].value_counts()"
   ]
  },
  {
   "cell_type": "code",
   "execution_count": 29,
   "id": "44221521",
   "metadata": {},
   "outputs": [],
   "source": [
    "# Replace variable 'contact', and convert the 'contact' to integer value.\n",
    "\n",
    "BMCdata['contact'] = BMCdata['contact'].str.replace('telephone', '1')\n",
    "BMCdata['contact'] = BMCdata['contact'].str.replace('cellular', '2')\n",
    "BMCdata['contact'] = BMCdata['contact'].astype(int)"
   ]
  },
  {
   "cell_type": "code",
   "execution_count": 30,
   "id": "11e902f4",
   "metadata": {},
   "outputs": [
    {
     "data": {
      "text/plain": [
       "thu    8618\n",
       "mon    8512\n",
       "wed    8134\n",
       "tue    8086\n",
       "fri    7826\n",
       "Name: day_of_week, dtype: int64"
      ]
     },
     "execution_count": 30,
     "metadata": {},
     "output_type": "execute_result"
    }
   ],
   "source": [
    "# Display 'day_of_week' categorical variable \n",
    "\n",
    "BMCdata['day_of_week'].value_counts()"
   ]
  },
  {
   "cell_type": "code",
   "execution_count": 31,
   "id": "d592c2e6",
   "metadata": {},
   "outputs": [],
   "source": [
    "# Replace variable 'day_of_week', and convert the 'day_of_week' to integer value.\n",
    "\n",
    "BMCdata['day_of_week'] = BMCdata['day_of_week'].str.replace('mon', '1')\n",
    "BMCdata['day_of_week'] = BMCdata['day_of_week'].str.replace('tue', '2')\n",
    "BMCdata['day_of_week'] = BMCdata['day_of_week'].str.replace('wed', '3')\n",
    "BMCdata['day_of_week'] = BMCdata['day_of_week'].str.replace('thu', '4')\n",
    "BMCdata['day_of_week'] = BMCdata['day_of_week'].str.replace('fri', '5')\n",
    "BMCdata['day_of_week'] = BMCdata['day_of_week'].astype(int)"
   ]
  },
  {
   "cell_type": "code",
   "execution_count": 32,
   "id": "6d7240b8",
   "metadata": {},
   "outputs": [
    {
     "data": {
      "text/plain": [
       "may    13767\n",
       "jul     7169\n",
       "aug     6176\n",
       "jun     5318\n",
       "nov     4100\n",
       "apr     2631\n",
       "oct      717\n",
       "sep      570\n",
       "mar      546\n",
       "dec      182\n",
       "Name: month, dtype: int64"
      ]
     },
     "execution_count": 32,
     "metadata": {},
     "output_type": "execute_result"
    }
   ],
   "source": [
    "# Display 'month' categorical variable \n",
    "\n",
    "BMCdata['month'].value_counts()"
   ]
  },
  {
   "cell_type": "code",
   "execution_count": 33,
   "id": "25b064e9",
   "metadata": {},
   "outputs": [],
   "source": [
    "# Replace variable 'month', and convert the 'month' to integer value.\n",
    "\n",
    "BMCdata['month'] = BMCdata['month'].str.replace('mar', '3')\n",
    "BMCdata['month'] = BMCdata['month'].str.replace('apr', '4')\n",
    "BMCdata['month'] = BMCdata['month'].str.replace('may', '5')\n",
    "BMCdata['month'] = BMCdata['month'].str.replace('jun', '6')\n",
    "BMCdata['month'] = BMCdata['month'].str.replace('jul', '7')\n",
    "BMCdata['month'] = BMCdata['month'].str.replace('aug', '8')\n",
    "BMCdata['month'] = BMCdata['month'].str.replace('sep', '9')\n",
    "BMCdata['month'] = BMCdata['month'].str.replace('oct', '10')\n",
    "BMCdata['month'] = BMCdata['month'].str.replace('nov', '11')\n",
    "BMCdata['month'] = BMCdata['month'].str.replace('dec', '12')\n",
    "BMCdata['month'] = BMCdata['month'].astype(int)"
   ]
  },
  {
   "cell_type": "code",
   "execution_count": 34,
   "id": "12aa3e56",
   "metadata": {},
   "outputs": [
    {
     "data": {
      "text/plain": [
       "nonexistent    35551\n",
       "failure         4252\n",
       "success         1373\n",
       "Name: poutcome, dtype: int64"
      ]
     },
     "execution_count": 34,
     "metadata": {},
     "output_type": "execute_result"
    }
   ],
   "source": [
    "# Display 'poutcome' categorical variable \n",
    "\n",
    "BMCdata['poutcome'].value_counts()"
   ]
  },
  {
   "cell_type": "code",
   "execution_count": 35,
   "id": "5b7d2fb9",
   "metadata": {},
   "outputs": [],
   "source": [
    "# Replace variable 'poutcome', and convert the 'poutcome' to integer value.\n",
    "\n",
    "BMCdata['poutcome'] = BMCdata['poutcome'].str.replace('nonexistent', '0')\n",
    "BMCdata['poutcome'] = BMCdata['poutcome'].str.replace('failure', '1')\n",
    "BMCdata['poutcome'] = BMCdata['poutcome'].str.replace('success', '2')\n",
    "BMCdata['poutcome'] = BMCdata['poutcome'].astype(int)"
   ]
  },
  {
   "cell_type": "code",
   "execution_count": 36,
   "id": "d45338e9",
   "metadata": {},
   "outputs": [
    {
     "name": "stdout",
     "output_type": "stream",
     "text": [
      "<class 'pandas.core.frame.DataFrame'>\n",
      "RangeIndex: 41176 entries, 0 to 41175\n",
      "Data columns (total 20 columns):\n",
      " #   Column          Non-Null Count  Dtype  \n",
      "---  ------          --------------  -----  \n",
      " 0   age             41176 non-null  int64  \n",
      " 1   job             41176 non-null  int32  \n",
      " 2   marital         41176 non-null  int32  \n",
      " 3   education       41176 non-null  int32  \n",
      " 4   housing         41176 non-null  int32  \n",
      " 5   loan            41176 non-null  int32  \n",
      " 6   contact         41176 non-null  int32  \n",
      " 7   month           41176 non-null  int32  \n",
      " 8   day_of_week     41176 non-null  int32  \n",
      " 9   duration        41176 non-null  int64  \n",
      " 10  campaign        41176 non-null  int64  \n",
      " 11  pdays           41176 non-null  int64  \n",
      " 12  previous        41176 non-null  int64  \n",
      " 13  poutcome        41176 non-null  int32  \n",
      " 14  emp.var.rate    41176 non-null  float64\n",
      " 15  cons.price.idx  41176 non-null  float64\n",
      " 16  cons.conf.idx   41176 non-null  float64\n",
      " 17  euribor3m       41176 non-null  float64\n",
      " 18  nr.employed     41176 non-null  float64\n",
      " 19  Deposit         41176 non-null  int32  \n",
      "dtypes: float64(5), int32(10), int64(5)\n",
      "memory usage: 4.7 MB\n"
     ]
    }
   ],
   "source": [
    "# Display the dataset information after converting the variables\n",
    "\n",
    "BMCdata.info()"
   ]
  },
  {
   "cell_type": "code",
   "execution_count": 37,
   "id": "bb6b4544",
   "metadata": {},
   "outputs": [],
   "source": [
    "# Delete the unneccasry variables\n",
    "\n",
    "del BMCdata['emp.var.rate']\n",
    "del BMCdata['cons.price.idx']\n",
    "del BMCdata['cons.conf.idx']\n",
    "del BMCdata['euribor3m']\n",
    "del BMCdata['nr.employed']"
   ]
  },
  {
   "cell_type": "code",
   "execution_count": 38,
   "id": "d6b0ecbc",
   "metadata": {},
   "outputs": [],
   "source": [
    "# Identify the dependent and Target variables\n",
    "\n",
    "IndepVar = []\n",
    "for col in BMCdata.columns:\n",
    "    if col != 'Deposit':\n",
    "        IndepVar.append(col)\n",
    "\n",
    "TargetVar = 'Deposit'\n",
    "\n",
    "x = BMCdata[IndepVar]\n",
    "y = BMCdata[TargetVar]"
   ]
  },
  {
   "cell_type": "code",
   "execution_count": 39,
   "id": "46f7bdea",
   "metadata": {},
   "outputs": [],
   "source": [
    "# Split the data into train and test (random sampling)\n",
    "\n",
    "from sklearn.model_selection import train_test_split \n",
    "\n",
    "x_train, x_test, y_train, y_test = train_test_split(x, y, test_size=0.3, random_state=42)"
   ]
  },
  {
   "cell_type": "code",
   "execution_count": 40,
   "id": "a9ad0efd",
   "metadata": {},
   "outputs": [],
   "source": [
    "# To build the decision tree model with random sampling\n",
    "\n",
    "from sklearn.linear_model import LogisticRegression \n",
    "\n",
    "BMCdataLR = LogisticRegression()\n",
    "\n",
    "BMCdataLR = BMCdataLR.fit(x_train,y_train)"
   ]
  },
  {
   "cell_type": "code",
   "execution_count": 41,
   "id": "39b89bb5",
   "metadata": {},
   "outputs": [],
   "source": [
    "# Predict the model with test data set\n",
    "\n",
    "y_pred = BMCdataLR.predict(x_test)"
   ]
  },
  {
   "cell_type": "code",
   "execution_count": 42,
   "id": "b5dc3c6d",
   "metadata": {},
   "outputs": [],
   "source": [
    "# confusion matrix in sklearn\n",
    "\n",
    "from sklearn.metrics import confusion_matrix\n",
    "from sklearn.metrics import classification_report"
   ]
  },
  {
   "cell_type": "code",
   "execution_count": 43,
   "id": "2cd045e0",
   "metadata": {},
   "outputs": [],
   "source": [
    "# actual values\n",
    "\n",
    "actual = y_test"
   ]
  },
  {
   "cell_type": "code",
   "execution_count": 44,
   "id": "ab2558dc",
   "metadata": {},
   "outputs": [],
   "source": [
    "# predicted values\n",
    "\n",
    "predicted = y_pred"
   ]
  },
  {
   "cell_type": "code",
   "execution_count": 45,
   "id": "9c1fe65b",
   "metadata": {},
   "outputs": [
    {
     "name": "stdout",
     "output_type": "stream",
     "text": [
      "Confusion matrix : \n",
      " [[  490   934]\n",
      " [  280 10649]]\n"
     ]
    }
   ],
   "source": [
    "# confusion matrix\n",
    "\n",
    "matrix = confusion_matrix(actual,predicted, labels=[1,0],sample_weight=None, normalize=None)\n",
    "print('Confusion matrix : \\n', matrix)"
   ]
  },
  {
   "cell_type": "code",
   "execution_count": 46,
   "id": "741caba2",
   "metadata": {},
   "outputs": [
    {
     "name": "stdout",
     "output_type": "stream",
     "text": [
      "Outcome values : \n",
      " 490 934 280 10649\n"
     ]
    }
   ],
   "source": [
    "# outcome values order in sklearn\n",
    "\n",
    "tp, fn, fp, tn = confusion_matrix(actual,predicted,labels=[1,0]).reshape(-1)\n",
    "print('Outcome values : \\n', tp, fn, fp, tn)"
   ]
  },
  {
   "cell_type": "code",
   "execution_count": 47,
   "id": "b8a31e63",
   "metadata": {},
   "outputs": [
    {
     "name": "stdout",
     "output_type": "stream",
     "text": [
      "Classification report : \n",
      "               precision    recall  f1-score   support\n",
      "\n",
      "           1       0.64      0.34      0.45      1424\n",
      "           0       0.92      0.97      0.95     10929\n",
      "\n",
      "    accuracy                           0.90     12353\n",
      "   macro avg       0.78      0.66      0.70     12353\n",
      "weighted avg       0.89      0.90      0.89     12353\n",
      "\n"
     ]
    }
   ],
   "source": [
    "# classification report for precision, recall f1-score and accuracy\n",
    "\n",
    "C_Report = classification_report(actual,predicted,labels=[1,0])\n",
    "\n",
    "print('Classification report : \\n', C_Report)"
   ]
  },
  {
   "cell_type": "code",
   "execution_count": 48,
   "id": "76631d5f",
   "metadata": {},
   "outputs": [],
   "source": [
    "# calculating the metrics\n",
    "\n",
    "sensitivity = round(tp/(tp+fn), 3);\n",
    "specificity = round(tn/(tn+fp), 3);\n",
    "accuracy = round((tp+tn)/(tp+fp+tn+fn), 3);\n",
    "balanced_accuracy = round((sensitivity+specificity)/2, 3);\n",
    "    \n",
    "precision = round(tp/(tp+fp), 3);\n",
    "f1Score = round((2*tp/(2*tp + fp + fn)), 3);"
   ]
  },
  {
   "cell_type": "code",
   "execution_count": 49,
   "id": "c9b74346",
   "metadata": {},
   "outputs": [
    {
     "name": "stdout",
     "output_type": "stream",
     "text": [
      "Accuracy : 90.2 %\n",
      "Precision : 63.6 %\n",
      "Recall : 34.4 %\n",
      "F1 Score : 0.447\n",
      "Specificity or True Negative Rate : 97.4 %\n",
      "Balanced Accuracy : 65.9 %\n",
      "MCC : 0.421\n"
     ]
    }
   ],
   "source": [
    "# Matthews Correlation Coefficient (MCC). Range of values of MCC lie between -1 to +1. \n",
    "# A model with a score of +1 is a perfect model and -1 is a poor model\n",
    "\n",
    "from math import sqrt\n",
    "\n",
    "mx = (tp+fp) * (tp+fn) * (tn+fp) * (tn+fn)\n",
    "MCC = round(((tp * tn) - (fp * fn)) / sqrt(mx), 3)\n",
    "\n",
    "print('Accuracy :', round(accuracy*100, 2),'%')\n",
    "print('Precision :', round(precision*100, 2),'%')\n",
    "print('Recall :', round(sensitivity*100,2), '%')\n",
    "print('F1 Score :', f1Score)\n",
    "print('Specificity or True Negative Rate :', round(specificity*100,2), '%'  )\n",
    "print('Balanced Accuracy :', round(balanced_accuracy*100, 2),'%')\n",
    "print('MCC :', MCC)"
   ]
  },
  {
   "cell_type": "code",
   "execution_count": 50,
   "id": "a05199c9",
   "metadata": {},
   "outputs": [
    {
     "name": "stdout",
     "output_type": "stream",
     "text": [
      "roc_auc_score: 0.659\n"
     ]
    }
   ],
   "source": [
    "# Area under ROC curve \n",
    "\n",
    "from sklearn.metrics import roc_curve, roc_auc_score\n",
    "\n",
    "print('roc_auc_score:', round(roc_auc_score(y_test, y_pred), 3))"
   ]
  },
  {
   "cell_type": "code",
   "execution_count": 51,
   "id": "8b5c1ac6",
   "metadata": {},
   "outputs": [
    {
     "data": {
      "text/plain": [
       "<Figure size 432x288 with 0 Axes>"
      ]
     },
     "execution_count": 51,
     "metadata": {},
     "output_type": "execute_result"
    },
    {
     "data": {
      "text/plain": [
       "<Figure size 432x288 with 0 Axes>"
      ]
     },
     "metadata": {},
     "output_type": "display_data"
    }
   ],
   "source": [
    "# ROC Curve\n",
    "\n",
    "from sklearn.metrics import roc_auc_score\n",
    "from sklearn.metrics import roc_curve\n",
    "logit_roc_auc = roc_auc_score(y_test, y_pred)\n",
    "fpr, tpr, thresholds = roc_curve(y_test,BMCdataLR.predict_proba(x_test)[:,1])\n",
    "plt.figure()"
   ]
  },
  {
   "cell_type": "code",
   "execution_count": 52,
   "id": "63bd2e02",
   "metadata": {},
   "outputs": [
    {
     "data": {
      "image/png": "[encoded data removed]",
      "text/plain": [
       "<Figure size 432x288 with 1 Axes>"
      ]
     },
     "metadata": {
      "needs_background": "light"
     },
     "output_type": "display_data"
    },
    {
     "name": "stdout",
     "output_type": "stream",
     "text": [
      "-----------------------------------------------------------------------------------------------------\n"
     ]
    }
   ],
   "source": [
    "# plt.plot(fpr, tpr, label='Logistic Regression (area = %0.2f)' % logit_roc_auc)\n",
    "plt.plot(fpr, tpr, label= 'Classification Model' % logit_roc_auc)\n",
    "plt.plot([0, 1], [0, 1],'r--')\n",
    "plt.xlim([0.0, 1.0])\n",
    "plt.ylim([0.0, 1.05])\n",
    "plt.xlabel('False Positive Rate')\n",
    "plt.ylabel('True Positive Rate')\n",
    "plt.title('Receiver operating characteristic')\n",
    "plt.legend(loc=\"lower right\")\n",
    "plt.savefig('Log_ROC')\n",
    "plt.show() \n",
    "print('-----------------------------------------------------------------------------------------------------')"
   ]
  },
  {
   "cell_type": "code",
   "execution_count": null,
   "id": "42a009b3",
   "metadata": {},
   "outputs": [],
   "source": []
  }
 ],
 "metadata": {
  "kernelspec": {
   "display_name": "Python 3 (ipykernel)",
   "language": "python",
   "name": "python3"
  },
  "language_info": {
   "codemirror_mode": {
    "name": "ipython",
    "version": 3
   },
   "file_extension": ".py",
   "mimetype": "text/x-python",
   "name": "python",
   "nbconvert_exporter": "python",
   "pygments_lexer": "ipython3",
   "version": "3.9.13"
  }
 },
 "nbformat": 4,
 "nbformat_minor": 5
}
