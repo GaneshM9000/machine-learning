{
 "cells": [
  {
   "cell_type": "code",
   "execution_count": 33,
   "metadata": {},
   "outputs": [],
   "source": [
    "# Importing the libraries \n",
    "\n",
    "import pandas as pd\n",
    "import numpy as np \n",
    "import matplotlib.pyplot as plt\n",
    "\n",
    "# Ignore harmless warnings \n",
    "\n",
    "import warnings \n",
    "warnings.filterwarnings(\"ignore\")\n",
    "\n",
    "# Set to display all the columns in dataset\n",
    "\n",
    "pd.set_option(\"display.max_columns\", None)\n",
    "\n",
    "# Import psql to run queries \n",
    "\n",
    "import pandasql as psql"
   ]
  },
  {
   "cell_type": "code",
   "execution_count": 34,
   "metadata": {},
   "outputs": [
    {
     "data": {
      "text/html": [
       "<div>\n",
       "<style scoped>\n",
       "    .dataframe tbody tr th:only-of-type {\n",
       "        vertical-align: middle;\n",
       "    }\n",
       "\n",
       "    .dataframe tbody tr th {\n",
       "        vertical-align: top;\n",
       "    }\n",
       "\n",
       "    .dataframe thead th {\n",
       "        text-align: right;\n",
       "    }\n",
       "</style>\n",
       "<table border=\"1\" class=\"dataframe\">\n",
       "  <thead>\n",
       "    <tr style=\"text-align: right;\">\n",
       "      <th></th>\n",
       "      <th>RowNumber</th>\n",
       "      <th>CustomerId</th>\n",
       "      <th>Surname</th>\n",
       "      <th>CreditScore</th>\n",
       "      <th>Geography</th>\n",
       "      <th>Gender</th>\n",
       "      <th>Age</th>\n",
       "      <th>Tenure</th>\n",
       "      <th>Balance</th>\n",
       "      <th>NumOfProducts</th>\n",
       "      <th>HasCrCard</th>\n",
       "      <th>IsActiveMember</th>\n",
       "      <th>EstimatedSalary</th>\n",
       "      <th>Exited</th>\n",
       "    </tr>\n",
       "  </thead>\n",
       "  <tbody>\n",
       "    <tr>\n",
       "      <th>0</th>\n",
       "      <td>1</td>\n",
       "      <td>15634602</td>\n",
       "      <td>Hargrave</td>\n",
       "      <td>619</td>\n",
       "      <td>France</td>\n",
       "      <td>Female</td>\n",
       "      <td>42</td>\n",
       "      <td>2</td>\n",
       "      <td>0.00</td>\n",
       "      <td>1</td>\n",
       "      <td>1</td>\n",
       "      <td>1</td>\n",
       "      <td>101348.88</td>\n",
       "      <td>1</td>\n",
       "    </tr>\n",
       "    <tr>\n",
       "      <th>1</th>\n",
       "      <td>2</td>\n",
       "      <td>15647311</td>\n",
       "      <td>Hill</td>\n",
       "      <td>608</td>\n",
       "      <td>Spain</td>\n",
       "      <td>Female</td>\n",
       "      <td>41</td>\n",
       "      <td>1</td>\n",
       "      <td>83807.86</td>\n",
       "      <td>1</td>\n",
       "      <td>0</td>\n",
       "      <td>1</td>\n",
       "      <td>112542.58</td>\n",
       "      <td>0</td>\n",
       "    </tr>\n",
       "    <tr>\n",
       "      <th>2</th>\n",
       "      <td>3</td>\n",
       "      <td>15619304</td>\n",
       "      <td>Onio</td>\n",
       "      <td>502</td>\n",
       "      <td>France</td>\n",
       "      <td>Female</td>\n",
       "      <td>42</td>\n",
       "      <td>8</td>\n",
       "      <td>159660.80</td>\n",
       "      <td>3</td>\n",
       "      <td>1</td>\n",
       "      <td>0</td>\n",
       "      <td>113931.57</td>\n",
       "      <td>1</td>\n",
       "    </tr>\n",
       "    <tr>\n",
       "      <th>3</th>\n",
       "      <td>4</td>\n",
       "      <td>15701354</td>\n",
       "      <td>Boni</td>\n",
       "      <td>699</td>\n",
       "      <td>France</td>\n",
       "      <td>Female</td>\n",
       "      <td>39</td>\n",
       "      <td>1</td>\n",
       "      <td>0.00</td>\n",
       "      <td>2</td>\n",
       "      <td>0</td>\n",
       "      <td>0</td>\n",
       "      <td>93826.63</td>\n",
       "      <td>0</td>\n",
       "    </tr>\n",
       "    <tr>\n",
       "      <th>4</th>\n",
       "      <td>5</td>\n",
       "      <td>15737888</td>\n",
       "      <td>Mitchell</td>\n",
       "      <td>850</td>\n",
       "      <td>Spain</td>\n",
       "      <td>Female</td>\n",
       "      <td>43</td>\n",
       "      <td>2</td>\n",
       "      <td>125510.82</td>\n",
       "      <td>1</td>\n",
       "      <td>1</td>\n",
       "      <td>1</td>\n",
       "      <td>79084.10</td>\n",
       "      <td>0</td>\n",
       "    </tr>\n",
       "  </tbody>\n",
       "</table>\n",
       "</div>"
      ],
      "text/plain": [
       "   RowNumber  CustomerId   Surname  CreditScore Geography  Gender  Age  \\\n",
       "0          1    15634602  Hargrave          619    France  Female   42   \n",
       "1          2    15647311      Hill          608     Spain  Female   41   \n",
       "2          3    15619304      Onio          502    France  Female   42   \n",
       "3          4    15701354      Boni          699    France  Female   39   \n",
       "4          5    15737888  Mitchell          850     Spain  Female   43   \n",
       "\n",
       "   Tenure    Balance  NumOfProducts  HasCrCard  IsActiveMember  \\\n",
       "0       2       0.00              1          1               1   \n",
       "1       1   83807.86              1          0               1   \n",
       "2       8  159660.80              3          1               0   \n",
       "3       1       0.00              2          0               0   \n",
       "4       2  125510.82              1          1               1   \n",
       "\n",
       "   EstimatedSalary  Exited  \n",
       "0        101348.88       1  \n",
       "1        112542.58       0  \n",
       "2        113931.57       1  \n",
       "3         93826.63       0  \n",
       "4         79084.10       0  "
      ]
     },
     "execution_count": 34,
     "metadata": {},
     "output_type": "execute_result"
    }
   ],
   "source": [
    "# Load the 'Customer Churn Problem' data\n",
    "\n",
    "CustChurn_T = pd.read_csv(r\"D:\\00 Henotic\\SRKR\\Datasets\\Churn_Modelling.csv\", header=0)\n",
    "CustChurn_T.head()"
   ]
  },
  {
   "cell_type": "code",
   "execution_count": 35,
   "metadata": {},
   "outputs": [
    {
     "data": {
      "text/plain": [
       "(1000, 14)"
      ]
     },
     "execution_count": 35,
     "metadata": {},
     "output_type": "execute_result"
    }
   ],
   "source": [
    "# Copy 10% data (stratified split on target variable) to new dataset \n",
    "\n",
    "CustChurn = CustChurn_T.groupby('Exited', group_keys=False).apply(lambda x: x.sample(frac=0.1))\n",
    "\n",
    "# Display the shape\n",
    "\n",
    "CustChurn.shape"
   ]
  },
  {
   "cell_type": "code",
   "execution_count": 36,
   "metadata": {},
   "outputs": [
    {
     "name": "stdout",
     "output_type": "stream",
     "text": [
      "<class 'pandas.core.frame.DataFrame'>\n",
      "RangeIndex: 1000 entries, 0 to 999\n",
      "Data columns (total 14 columns):\n",
      " #   Column           Non-Null Count  Dtype  \n",
      "---  ------           --------------  -----  \n",
      " 0   RowNumber        1000 non-null   int64  \n",
      " 1   CustomerId       1000 non-null   int64  \n",
      " 2   Surname          1000 non-null   object \n",
      " 3   CreditScore      1000 non-null   int64  \n",
      " 4   Geography        1000 non-null   object \n",
      " 5   Gender           1000 non-null   object \n",
      " 6   Age              1000 non-null   int64  \n",
      " 7   Tenure           1000 non-null   int64  \n",
      " 8   Balance          1000 non-null   float64\n",
      " 9   NumOfProducts    1000 non-null   int64  \n",
      " 10  HasCrCard        1000 non-null   int64  \n",
      " 11  IsActiveMember   1000 non-null   int64  \n",
      " 12  EstimatedSalary  1000 non-null   float64\n",
      " 13  Exited           1000 non-null   int64  \n",
      "dtypes: float64(2), int64(9), object(3)\n",
      "memory usage: 109.5+ KB\n"
     ]
    }
   ],
   "source": [
    "# Re-set the index\n",
    "\n",
    "CustChurn = CustChurn.reset_index(drop=True)\n",
    "\n",
    "# Copy to back-up file\n",
    "\n",
    "CustChurn_bk = CustChurn.copy()\n",
    "\n",
    "# Display information of the dataset\n",
    "\n",
    "CustChurn.info()"
   ]
  },
  {
   "cell_type": "code",
   "execution_count": 37,
   "metadata": {},
   "outputs": [
    {
     "data": {
      "text/plain": [
       "0    7963\n",
       "1    2037\n",
       "Name: Exited, dtype: int64"
      ]
     },
     "execution_count": 37,
     "metadata": {},
     "output_type": "execute_result"
    }
   ],
   "source": [
    "# Display the Exited varibale count\n",
    "\n",
    "CustChurn_T['Exited'].value_counts()"
   ]
  },
  {
   "cell_type": "code",
   "execution_count": 38,
   "metadata": {},
   "outputs": [
    {
     "data": {
      "text/plain": [
       "0    796\n",
       "1    204\n",
       "Name: Exited, dtype: int64"
      ]
     },
     "execution_count": 38,
     "metadata": {},
     "output_type": "execute_result"
    }
   ],
   "source": [
    "# Display the Exited varibale count\n",
    "\n",
    "CustChurn['Exited'].value_counts()"
   ]
  },
  {
   "cell_type": "code",
   "execution_count": 39,
   "metadata": {},
   "outputs": [
    {
     "data": {
      "text/plain": [
       "False"
      ]
     },
     "execution_count": 39,
     "metadata": {},
     "output_type": "execute_result"
    }
   ],
   "source": [
    "# Check if there are duplicate rows in the dataset\n",
    "\n",
    "CustChurn.duplicated().any()"
   ]
  },
  {
   "cell_type": "code",
   "execution_count": 40,
   "metadata": {},
   "outputs": [],
   "source": [
    "# Drop the variables which are not infulencing on target variable\n",
    "\n",
    "CustChurn = CustChurn.drop(['RowNumber', 'CustomerId', 'Surname'], axis=1)"
   ]
  },
  {
   "cell_type": "code",
   "execution_count": 41,
   "metadata": {},
   "outputs": [
    {
     "name": "stdout",
     "output_type": "stream",
     "text": [
      "<class 'pandas.core.frame.DataFrame'>\n",
      "RangeIndex: 1000 entries, 0 to 999\n",
      "Data columns (total 11 columns):\n",
      " #   Column           Non-Null Count  Dtype  \n",
      "---  ------           --------------  -----  \n",
      " 0   CreditScore      1000 non-null   int64  \n",
      " 1   Geography        1000 non-null   object \n",
      " 2   Gender           1000 non-null   object \n",
      " 3   Age              1000 non-null   int64  \n",
      " 4   Tenure           1000 non-null   int64  \n",
      " 5   Balance          1000 non-null   float64\n",
      " 6   NumOfProducts    1000 non-null   int64  \n",
      " 7   HasCrCard        1000 non-null   int64  \n",
      " 8   IsActiveMember   1000 non-null   int64  \n",
      " 9   EstimatedSalary  1000 non-null   float64\n",
      " 10  Exited           1000 non-null   int64  \n",
      "dtypes: float64(2), int64(7), object(2)\n",
      "memory usage: 86.1+ KB\n"
     ]
    }
   ],
   "source": [
    "# Display the information of dataset\n",
    "\n",
    "CustChurn.info()"
   ]
  },
  {
   "cell_type": "code",
   "execution_count": 42,
   "metadata": {},
   "outputs": [
    {
     "data": {
      "text/plain": [
       "France     501\n",
       "Germany    258\n",
       "Spain      241\n",
       "Name: Geography, dtype: int64"
      ]
     },
     "execution_count": 42,
     "metadata": {},
     "output_type": "execute_result"
    }
   ],
   "source": [
    "# Display the Geography varibles count\n",
    "\n",
    "CustChurn['Geography'].value_counts()"
   ]
  },
  {
   "cell_type": "code",
   "execution_count": 43,
   "metadata": {},
   "outputs": [
    {
     "data": {
      "text/plain": [
       "Male      533\n",
       "Female    467\n",
       "Name: Gender, dtype: int64"
      ]
     },
     "execution_count": 43,
     "metadata": {},
     "output_type": "execute_result"
    }
   ],
   "source": [
    "# Display the Gender varibale count\n",
    "\n",
    "CustChurn['Gender'].value_counts()"
   ]
  },
  {
   "cell_type": "code",
   "execution_count": 44,
   "metadata": {},
   "outputs": [
    {
     "data": {
      "text/html": [
       "<div>\n",
       "<style scoped>\n",
       "    .dataframe tbody tr th:only-of-type {\n",
       "        vertical-align: middle;\n",
       "    }\n",
       "\n",
       "    .dataframe tbody tr th {\n",
       "        vertical-align: top;\n",
       "    }\n",
       "\n",
       "    .dataframe thead th {\n",
       "        text-align: right;\n",
       "    }\n",
       "</style>\n",
       "<table border=\"1\" class=\"dataframe\">\n",
       "  <thead>\n",
       "    <tr style=\"text-align: right;\">\n",
       "      <th></th>\n",
       "      <th>CreditScore</th>\n",
       "      <th>Age</th>\n",
       "      <th>Tenure</th>\n",
       "      <th>Balance</th>\n",
       "      <th>NumOfProducts</th>\n",
       "      <th>HasCrCard</th>\n",
       "      <th>IsActiveMember</th>\n",
       "      <th>EstimatedSalary</th>\n",
       "      <th>Exited</th>\n",
       "      <th>Geography_France</th>\n",
       "      <th>Geography_Germany</th>\n",
       "      <th>Geography_Spain</th>\n",
       "      <th>Gender_Female</th>\n",
       "      <th>Gender_Male</th>\n",
       "    </tr>\n",
       "  </thead>\n",
       "  <tbody>\n",
       "    <tr>\n",
       "      <th>0</th>\n",
       "      <td>501</td>\n",
       "      <td>41</td>\n",
       "      <td>3</td>\n",
       "      <td>144260.50</td>\n",
       "      <td>1</td>\n",
       "      <td>1</td>\n",
       "      <td>0</td>\n",
       "      <td>172114.67</td>\n",
       "      <td>0</td>\n",
       "      <td>1</td>\n",
       "      <td>0</td>\n",
       "      <td>0</td>\n",
       "      <td>1</td>\n",
       "      <td>0</td>\n",
       "    </tr>\n",
       "    <tr>\n",
       "      <th>1</th>\n",
       "      <td>602</td>\n",
       "      <td>32</td>\n",
       "      <td>7</td>\n",
       "      <td>184715.86</td>\n",
       "      <td>2</td>\n",
       "      <td>1</td>\n",
       "      <td>0</td>\n",
       "      <td>113781.99</td>\n",
       "      <td>0</td>\n",
       "      <td>0</td>\n",
       "      <td>1</td>\n",
       "      <td>0</td>\n",
       "      <td>0</td>\n",
       "      <td>1</td>\n",
       "    </tr>\n",
       "    <tr>\n",
       "      <th>2</th>\n",
       "      <td>788</td>\n",
       "      <td>39</td>\n",
       "      <td>3</td>\n",
       "      <td>135139.33</td>\n",
       "      <td>1</td>\n",
       "      <td>0</td>\n",
       "      <td>1</td>\n",
       "      <td>113086.08</td>\n",
       "      <td>0</td>\n",
       "      <td>1</td>\n",
       "      <td>0</td>\n",
       "      <td>0</td>\n",
       "      <td>1</td>\n",
       "      <td>0</td>\n",
       "    </tr>\n",
       "    <tr>\n",
       "      <th>3</th>\n",
       "      <td>845</td>\n",
       "      <td>41</td>\n",
       "      <td>2</td>\n",
       "      <td>81733.74</td>\n",
       "      <td>2</td>\n",
       "      <td>0</td>\n",
       "      <td>0</td>\n",
       "      <td>199761.29</td>\n",
       "      <td>0</td>\n",
       "      <td>0</td>\n",
       "      <td>1</td>\n",
       "      <td>0</td>\n",
       "      <td>1</td>\n",
       "      <td>0</td>\n",
       "    </tr>\n",
       "    <tr>\n",
       "      <th>4</th>\n",
       "      <td>714</td>\n",
       "      <td>29</td>\n",
       "      <td>6</td>\n",
       "      <td>92887.13</td>\n",
       "      <td>1</td>\n",
       "      <td>1</td>\n",
       "      <td>1</td>\n",
       "      <td>69578.49</td>\n",
       "      <td>0</td>\n",
       "      <td>0</td>\n",
       "      <td>1</td>\n",
       "      <td>0</td>\n",
       "      <td>0</td>\n",
       "      <td>1</td>\n",
       "    </tr>\n",
       "  </tbody>\n",
       "</table>\n",
       "</div>"
      ],
      "text/plain": [
       "   CreditScore  Age  Tenure    Balance  NumOfProducts  HasCrCard  \\\n",
       "0          501   41       3  144260.50              1          1   \n",
       "1          602   32       7  184715.86              2          1   \n",
       "2          788   39       3  135139.33              1          0   \n",
       "3          845   41       2   81733.74              2          0   \n",
       "4          714   29       6   92887.13              1          1   \n",
       "\n",
       "   IsActiveMember  EstimatedSalary  Exited  Geography_France  \\\n",
       "0               0        172114.67       0                 1   \n",
       "1               0        113781.99       0                 0   \n",
       "2               1        113086.08       0                 1   \n",
       "3               0        199761.29       0                 0   \n",
       "4               1         69578.49       0                 0   \n",
       "\n",
       "   Geography_Germany  Geography_Spain  Gender_Female  Gender_Male  \n",
       "0                  0                0              1            0  \n",
       "1                  1                0              0            1  \n",
       "2                  0                0              1            0  \n",
       "3                  1                0              1            0  \n",
       "4                  1                0              0            1  "
      ]
     },
     "execution_count": 44,
     "metadata": {},
     "output_type": "execute_result"
    }
   ],
   "source": [
    "# Convert 'Geography' and 'Gender' to numerical format using one hot encoding\n",
    "\n",
    "CustChurn = pd.get_dummies(CustChurn, columns=['Geography', 'Gender'])\n",
    "CustChurn.head()"
   ]
  },
  {
   "cell_type": "code",
   "execution_count": 45,
   "metadata": {},
   "outputs": [
    {
     "name": "stdout",
     "output_type": "stream",
     "text": [
      "<class 'pandas.core.frame.DataFrame'>\n",
      "RangeIndex: 1000 entries, 0 to 999\n",
      "Data columns (total 14 columns):\n",
      " #   Column             Non-Null Count  Dtype  \n",
      "---  ------             --------------  -----  \n",
      " 0   CreditScore        1000 non-null   int64  \n",
      " 1   Age                1000 non-null   int64  \n",
      " 2   Tenure             1000 non-null   int64  \n",
      " 3   Balance            1000 non-null   float64\n",
      " 4   NumOfProducts      1000 non-null   int64  \n",
      " 5   HasCrCard          1000 non-null   int64  \n",
      " 6   IsActiveMember     1000 non-null   int64  \n",
      " 7   EstimatedSalary    1000 non-null   float64\n",
      " 8   Exited             1000 non-null   int64  \n",
      " 9   Geography_France   1000 non-null   uint8  \n",
      " 10  Geography_Germany  1000 non-null   uint8  \n",
      " 11  Geography_Spain    1000 non-null   uint8  \n",
      " 12  Gender_Female      1000 non-null   uint8  \n",
      " 13  Gender_Male        1000 non-null   uint8  \n",
      "dtypes: float64(2), int64(7), uint8(5)\n",
      "memory usage: 75.3 KB\n"
     ]
    }
   ],
   "source": [
    "# Display the information of dataset after conversion of variables\n",
    "\n",
    "CustChurn.info()"
   ]
  },
  {
   "cell_type": "code",
   "execution_count": 46,
   "metadata": {},
   "outputs": [
    {
     "data": {
      "text/plain": [
       "0    796\n",
       "1    204\n",
       "Name: Exited, dtype: int64"
      ]
     },
     "execution_count": 46,
     "metadata": {},
     "output_type": "execute_result"
    }
   ],
   "source": [
    "# Display the target varibale count\n",
    "\n",
    "CustChurn['Exited'].value_counts()"
   ]
  },
  {
   "cell_type": "code",
   "execution_count": 47,
   "metadata": {},
   "outputs": [],
   "source": [
    "# Convert the target data type into category variable\n",
    "\n",
    "CustChurn['Exited'] = CustChurn['Exited'].astype(\"category\")"
   ]
  },
  {
   "cell_type": "code",
   "execution_count": 48,
   "metadata": {},
   "outputs": [],
   "source": [
    "# Identify the Independent and Target variables\n",
    "\n",
    "IndepVar = []\n",
    "for col in CustChurn.columns:\n",
    "    if col != 'Exited':\n",
    "        IndepVar.append(col)\n",
    "\n",
    "TargetVar = 'Exited'\n",
    "\n",
    "x = CustChurn[IndepVar]\n",
    "y = CustChurn[TargetVar]"
   ]
  },
  {
   "cell_type": "code",
   "execution_count": 49,
   "metadata": {},
   "outputs": [
    {
     "data": {
      "text/plain": [
       "((700, 13), (300, 13), (700,), (300,))"
      ]
     },
     "execution_count": 49,
     "metadata": {},
     "output_type": "execute_result"
    }
   ],
   "source": [
    "# Splitting the dataset into train and test \n",
    "\n",
    "from sklearn.model_selection import train_test_split\n",
    "\n",
    "x_train, x_test, y_train, y_test = train_test_split(x, y, test_size = 0.30, random_state = 42)\n",
    "\n",
    "# Display the shape the training and testing data\n",
    "\n",
    "x_train.shape, x_test.shape, y_train.shape, y_test.shape"
   ]
  },
  {
   "cell_type": "code",
   "execution_count": 50,
   "metadata": {},
   "outputs": [],
   "source": [
    "# Feature Scaling - Each independent variable is in different range. The process of transforming all the \n",
    "# features in the given data set to a fixed range is known as ‘Scaling’\n",
    "\n",
    "from sklearn.preprocessing import StandardScaler\n",
    "sc = StandardScaler()\n",
    "x_train = sc.fit_transform(x_train)\n",
    "x_test = sc.fit_transform(x_test)"
   ]
  },
  {
   "cell_type": "code",
   "execution_count": 51,
   "metadata": {},
   "outputs": [
    {
     "data": {
      "text/html": [
       "<div>\n",
       "<style scoped>\n",
       "    .dataframe tbody tr th:only-of-type {\n",
       "        vertical-align: middle;\n",
       "    }\n",
       "\n",
       "    .dataframe tbody tr th {\n",
       "        vertical-align: top;\n",
       "    }\n",
       "\n",
       "    .dataframe thead th {\n",
       "        text-align: right;\n",
       "    }\n",
       "</style>\n",
       "<table border=\"1\" class=\"dataframe\">\n",
       "  <thead>\n",
       "    <tr style=\"text-align: right;\">\n",
       "      <th></th>\n",
       "      <th>Model Name</th>\n",
       "      <th>True_Positive</th>\n",
       "      <th>False_Negative</th>\n",
       "      <th>False_Positive</th>\n",
       "      <th>True_Negative</th>\n",
       "      <th>Accuracy</th>\n",
       "      <th>Precision</th>\n",
       "      <th>Recall</th>\n",
       "      <th>F1 Score</th>\n",
       "      <th>Specificity</th>\n",
       "      <th>MCC</th>\n",
       "      <th>ROC_AUC_Score</th>\n",
       "      <th>Balanced Accuracy</th>\n",
       "    </tr>\n",
       "  </thead>\n",
       "  <tbody>\n",
       "  </tbody>\n",
       "</table>\n",
       "</div>"
      ],
      "text/plain": [
       "Empty DataFrame\n",
       "Columns: [Model Name, True_Positive, False_Negative, False_Positive, True_Negative, Accuracy, Precision, Recall, F1 Score, Specificity, MCC, ROC_AUC_Score, Balanced Accuracy]\n",
       "Index: []"
      ]
     },
     "execution_count": 51,
     "metadata": {},
     "output_type": "execute_result"
    }
   ],
   "source": [
    "# Load the Hyperparameter tunining result dataset\n",
    "\n",
    "HTResults = pd.read_csv(r\"D:\\00 Henotic\\SRKR\\Datasets\\Results\\HTResults.csv\", header=0)\n",
    "HTResults.head()"
   ]
  },
  {
   "cell_type": "code",
   "execution_count": 52,
   "metadata": {},
   "outputs": [
    {
     "name": "stdout",
     "output_type": "stream",
     "text": [
      "Confusion matrix : \n",
      " [[ 26  42]\n",
      " [ 12 220]]\n",
      "Outcome values : \n",
      " 26 42 12 220\n",
      "Classification report : \n",
      "               precision    recall  f1-score   support\n",
      "\n",
      "           1       0.68      0.38      0.49        68\n",
      "           0       0.84      0.95      0.89       232\n",
      "\n",
      "    accuracy                           0.82       300\n",
      "   macro avg       0.76      0.67      0.69       300\n",
      "weighted avg       0.80      0.82      0.80       300\n",
      "\n",
      "Accuracy : 82.0 %\n",
      "Precision : 68.4 %\n",
      "Recall : 38.2 %\n",
      "F1 Score : 0.491\n",
      "Specificity or True Negative Rate : 94.8 %\n",
      "Balanced Accuracy : 66.5 %\n",
      "MCC : 0.416\n",
      "roc_auc_score: 0.665\n"
     ]
    },
    {
     "data": {
      "image/png": "[encoded data removed]",
      "text/plain": [
       "<Figure size 432x288 with 1 Axes>"
      ]
     },
     "metadata": {
      "needs_background": "light"
     },
     "output_type": "display_data"
    },
    {
     "name": "stdout",
     "output_type": "stream",
     "text": [
      "-----------------------------------------------------------------------------------------------------\n"
     ]
    }
   ],
   "source": [
    "# To build the 'RandomForestClassifier' model with random sampling\n",
    "\n",
    "from sklearn.ensemble import RandomForestClassifier\n",
    "\n",
    "ModelRF1 = RandomForestClassifier(n_estimators=100, criterion='gini', max_depth=None, min_samples_split=2,\n",
    "                                  min_samples_leaf=1, min_weight_fraction_leaf=0.0, max_features='sqrt', \n",
    "                                  max_leaf_nodes=None, min_impurity_decrease=0.0, bootstrap=True, oob_score=False, \n",
    "                                  n_jobs=None, random_state=None, verbose=0, warm_start=False, class_weight=None, \n",
    "                                  ccp_alpha=0.0, max_samples=None)\n",
    "\n",
    "# Train the model with train data \n",
    "\n",
    "ModelRF1.fit(x_train,y_train)\n",
    "\n",
    "# Predict the model with test data set\n",
    "\n",
    "y_pred = ModelRF1.predict(x_test)\n",
    "y_pred_prob = ModelRF1.predict_proba(x_test)\n",
    "\n",
    "# Confusion matrix in sklearn\n",
    "\n",
    "from sklearn.metrics import confusion_matrix\n",
    "from sklearn.metrics import classification_report\n",
    "\n",
    "# actual values\n",
    "\n",
    "actual = y_test\n",
    "\n",
    "# predicted values\n",
    "\n",
    "predicted = y_pred\n",
    "\n",
    "# confusion matrix\n",
    "\n",
    "matrix = confusion_matrix(actual,predicted, labels=[1,0],sample_weight=None, normalize=None)\n",
    "print('Confusion matrix : \\n', matrix)\n",
    "\n",
    "# outcome values order in sklearn\n",
    "\n",
    "tp, fn, fp, tn = confusion_matrix(actual,predicted,labels=[1,0]).reshape(-1)\n",
    "print('Outcome values : \\n', tp, fn, fp, tn)\n",
    "\n",
    "# classification report for precision, recall f1-score and accuracy\n",
    "\n",
    "C_Report = classification_report(actual,predicted,labels=[1,0])\n",
    "\n",
    "print('Classification report : \\n', C_Report)\n",
    "\n",
    "# calculating the metrics\n",
    "\n",
    "sensitivity = round(tp/(tp+fn), 3);\n",
    "specificity = round(tn/(tn+fp), 3);\n",
    "accuracy = round((tp+tn)/(tp+fp+tn+fn), 3);\n",
    "balanced_accuracy = round((sensitivity+specificity)/2, 3);\n",
    "precision = round(tp/(tp+fp), 3);\n",
    "f1Score = round((2*tp/(2*tp + fp + fn)), 3);\n",
    "\n",
    "# Matthews Correlation Coefficient (MCC). Range of values of MCC lie between -1 to +1. \n",
    "# A model with a score of +1 is a perfect model and -1 is a poor model\n",
    "\n",
    "from math import sqrt\n",
    "\n",
    "mx = (tp+fp) * (tp+fn) * (tn+fp) * (tn+fn)\n",
    "MCC = round(((tp * tn) - (fp * fn)) / sqrt(mx), 3)\n",
    "\n",
    "print('Accuracy :', round(accuracy*100, 2),'%')\n",
    "print('Precision :', round(precision*100, 2),'%')\n",
    "print('Recall :', round(sensitivity*100,2), '%')\n",
    "print('F1 Score :', f1Score)\n",
    "print('Specificity or True Negative Rate :', round(specificity*100,2), '%'  )\n",
    "print('Balanced Accuracy :', round(balanced_accuracy*100, 2),'%')\n",
    "print('MCC :', MCC)\n",
    "\n",
    "# Area under ROC curve \n",
    "\n",
    "from sklearn.metrics import roc_curve, roc_auc_score\n",
    "\n",
    "print('roc_auc_score:', round(roc_auc_score(actual, predicted), 3))\n",
    "\n",
    "# ROC Curve\n",
    "\n",
    "from sklearn.metrics import roc_auc_score\n",
    "from sklearn.metrics import roc_curve\n",
    "logit_roc_auc = roc_auc_score(actual, predicted)\n",
    "fpr, tpr, thresholds = roc_curve(actual, ModelRF1.predict_proba(x_test)[:,1])\n",
    "plt.figure()\n",
    "# plt.plot(fpr, tpr, label='Logistic Regression (area = %0.2f)' % logit_roc_auc)\n",
    "plt.plot(fpr, tpr, label= 'Classification Model' % logit_roc_auc)\n",
    "plt.plot([0, 1], [0, 1],'r--')\n",
    "plt.xlim([0.0, 1.0])\n",
    "plt.ylim([0.0, 1.05])\n",
    "plt.xlabel('False Positive Rate')\n",
    "plt.ylabel('True Positive Rate')\n",
    "plt.title('Receiver operating characteristic')\n",
    "plt.legend(loc=\"lower right\")\n",
    "plt.savefig('Log_ROC')\n",
    "plt.show() \n",
    "print('-----------------------------------------------------------------------------------------------------')\n",
    "#----------------------------------------------------------------------------------------------------------\n",
    "new_row = {'Model Name' : ModelRF1,\n",
    "           'True_Positive': tp,\n",
    "           'False_Negative': fn, \n",
    "           'False_Positive': fp, \n",
    "           'True_Negative': tn,\n",
    "           'Accuracy' : accuracy,\n",
    "           'Precision' : precision,\n",
    "           'Recall' : sensitivity,\n",
    "           'F1 Score' : f1Score,\n",
    "           'Specificity' : specificity,\n",
    "           'MCC':MCC,\n",
    "           'ROC_AUC_Score':roc_auc_score(actual, predicted),\n",
    "           'Balanced Accuracy':balanced_accuracy}\n",
    "HTResults = HTResults.append(new_row, ignore_index=True)\n",
    "#----------------------------------------------------------------------------------------------------------"
   ]
  },
  {
   "cell_type": "code",
   "execution_count": 53,
   "metadata": {},
   "outputs": [
    {
     "data": {
      "text/html": [
       "<div>\n",
       "<style scoped>\n",
       "    .dataframe tbody tr th:only-of-type {\n",
       "        vertical-align: middle;\n",
       "    }\n",
       "\n",
       "    .dataframe tbody tr th {\n",
       "        vertical-align: top;\n",
       "    }\n",
       "\n",
       "    .dataframe thead th {\n",
       "        text-align: right;\n",
       "    }\n",
       "</style>\n",
       "<table border=\"1\" class=\"dataframe\">\n",
       "  <thead>\n",
       "    <tr style=\"text-align: right;\">\n",
       "      <th></th>\n",
       "      <th>Model Name</th>\n",
       "      <th>True_Positive</th>\n",
       "      <th>False_Negative</th>\n",
       "      <th>False_Positive</th>\n",
       "      <th>True_Negative</th>\n",
       "      <th>Accuracy</th>\n",
       "      <th>Precision</th>\n",
       "      <th>Recall</th>\n",
       "      <th>F1 Score</th>\n",
       "      <th>Specificity</th>\n",
       "      <th>MCC</th>\n",
       "      <th>ROC_AUC_Score</th>\n",
       "      <th>Balanced Accuracy</th>\n",
       "    </tr>\n",
       "  </thead>\n",
       "  <tbody>\n",
       "    <tr>\n",
       "      <th>0</th>\n",
       "      <td>(DecisionTreeClassifier(max_features='sqrt', r...</td>\n",
       "      <td>26</td>\n",
       "      <td>42</td>\n",
       "      <td>12</td>\n",
       "      <td>220</td>\n",
       "      <td>0.82</td>\n",
       "      <td>0.684</td>\n",
       "      <td>0.382</td>\n",
       "      <td>0.491</td>\n",
       "      <td>0.948</td>\n",
       "      <td>0.416</td>\n",
       "      <td>0.665314</td>\n",
       "      <td>0.665</td>\n",
       "    </tr>\n",
       "  </tbody>\n",
       "</table>\n",
       "</div>"
      ],
      "text/plain": [
       "                                          Model Name True_Positive  \\\n",
       "0  (DecisionTreeClassifier(max_features='sqrt', r...            26   \n",
       "\n",
       "  False_Negative False_Positive True_Negative  Accuracy  Precision  Recall  \\\n",
       "0             42             12           220      0.82      0.684   0.382   \n",
       "\n",
       "   F1 Score  Specificity    MCC  ROC_AUC_Score  Balanced Accuracy  \n",
       "0     0.491        0.948  0.416       0.665314              0.665  "
      ]
     },
     "execution_count": 53,
     "metadata": {},
     "output_type": "execute_result"
    }
   ],
   "source": [
    "HTResults.head()"
   ]
  },
  {
   "cell_type": "markdown",
   "metadata": {},
   "source": [
    "# Hyperparameter tuning by GridSearchCV"
   ]
  },
  {
   "cell_type": "code",
   "execution_count": 23,
   "metadata": {},
   "outputs": [
    {
     "name": "stdout",
     "output_type": "stream",
     "text": [
      "Fitting 3 folds for each of 960 candidates, totalling 2880 fits\n"
     ]
    },
    {
     "name": "stderr",
     "output_type": "stream",
     "text": [
      "[Parallel(n_jobs=-1)]: Using backend LokyBackend with 8 concurrent workers.\n",
      "[Parallel(n_jobs=-1)]: Done  25 tasks      | elapsed:   14.1s\n",
      "[Parallel(n_jobs=-1)]: Done 146 tasks      | elapsed:   41.1s\n",
      "[Parallel(n_jobs=-1)]: Done 349 tasks      | elapsed:  1.5min\n",
      "[Parallel(n_jobs=-1)]: Done 632 tasks      | elapsed:  2.6min\n",
      "[Parallel(n_jobs=-1)]: Done 997 tasks      | elapsed:  4.0min\n",
      "[Parallel(n_jobs=-1)]: Done 1442 tasks      | elapsed:  5.7min\n",
      "[Parallel(n_jobs=-1)]: Done 1969 tasks      | elapsed:  7.4min\n",
      "[Parallel(n_jobs=-1)]: Done 2576 tasks      | elapsed:  9.3min\n",
      "[Parallel(n_jobs=-1)]: Done 2880 out of 2880 | elapsed: 10.3min finished\n"
     ]
    },
    {
     "data": {
      "text/plain": [
       "GridSearchCV(cv=3, estimator=RandomForestClassifier(), n_jobs=-1,\n",
       "             param_grid={'bootstrap': [True, False], 'max_depth': [10, 15],\n",
       "                         'max_features': ['auto', 'sqrt', 'log2'],\n",
       "                         'min_samples_leaf': [3, 4, 5, 6],\n",
       "                         'min_samples_split': [3, 4, 5, 6],\n",
       "                         'n_estimators': [100, 200, 300, 400, 500]},\n",
       "             verbose=2)"
      ]
     },
     "execution_count": 23,
     "metadata": {},
     "output_type": "execute_result"
    }
   ],
   "source": [
    "# Hyperparameter tuning by GridSearchCV\n",
    "\n",
    "from sklearn.model_selection import GridSearchCV\n",
    "\n",
    "# Create the parameter grid based on the results of random search \n",
    "GS_grid = {\n",
    "    'bootstrap': [True, False],\n",
    "    'max_depth': [10,15],\n",
    "    'max_features': ['auto', 'sqrt', 'log2'],\n",
    "    'min_samples_leaf': [3, 4, 5, 6],\n",
    "    'min_samples_split': [3,4,5,6],\n",
    "    'n_estimators': [100, 200, 300, 400, 500]\n",
    "}\n",
    "\n",
    "# Create object for model\n",
    "\n",
    "ModelRF2 = RandomForestClassifier()\n",
    "\n",
    "# Instantiate the grid search model\n",
    "\n",
    "Grid_search = GridSearchCV(estimator = ModelRF2, param_grid = GS_grid, cv = 3, n_jobs = -1, verbose = 2)\n",
    "\n",
    "# Fit the grid search to the data\n",
    "\n",
    "Grid_search.fit(x_train,y_train)"
   ]
  },
  {
   "cell_type": "code",
   "execution_count": 54,
   "metadata": {},
   "outputs": [
    {
     "data": {
      "text/plain": [
       "{'bootstrap': False,\n",
       " 'max_depth': 10,\n",
       " 'max_features': 'auto',\n",
       " 'min_samples_leaf': 3,\n",
       " 'min_samples_split': 3,\n",
       " 'n_estimators': 100}"
      ]
     },
     "execution_count": 54,
     "metadata": {},
     "output_type": "execute_result"
    }
   ],
   "source": [
    "# Best parameter from gridseachCV\n",
    "\n",
    "Grid_search.best_params_"
   ]
  },
  {
   "cell_type": "code",
   "execution_count": 55,
   "metadata": {},
   "outputs": [
    {
     "data": {
      "text/plain": [
       "RandomForestClassifier(bootstrap=False, max_depth=10, min_samples_leaf=3,\n",
       "                       min_samples_split=3)"
      ]
     },
     "execution_count": 55,
     "metadata": {},
     "output_type": "execute_result"
    }
   ],
   "source": [
    "# Display of best parameter\n",
    "\n",
    "best_grid = Grid_search.best_estimator_\n",
    "best_grid"
   ]
  },
  {
   "cell_type": "code",
   "execution_count": 56,
   "metadata": {},
   "outputs": [
    {
     "name": "stdout",
     "output_type": "stream",
     "text": [
      "Confusion matrix : \n",
      " [[ 25  43]\n",
      " [  9 223]]\n",
      "Outcome values : \n",
      " 25 43 9 223\n",
      "Classification report : \n",
      "               precision    recall  f1-score   support\n",
      "\n",
      "           1       0.74      0.37      0.49        68\n",
      "           0       0.84      0.96      0.90       232\n",
      "\n",
      "    accuracy                           0.83       300\n",
      "   macro avg       0.79      0.66      0.69       300\n",
      "weighted avg       0.81      0.83      0.80       300\n",
      "\n",
      "Accuracy : 82.7 %\n",
      "Precision : 73.5 %\n",
      "Recall : 36.8 %\n",
      "F1 Score : 0.49\n",
      "Specificity or True Negative Rate : 96.1 %\n",
      "Balanced Accuracy : 66.4 %\n",
      "MCC : 0.434\n",
      "roc_auc_score: 0.664\n"
     ]
    },
    {
     "data": {
      "image/png": "[encoded data removed]",
      "text/plain": [
       "<Figure size 432x288 with 1 Axes>"
      ]
     },
     "metadata": {
      "needs_background": "light"
     },
     "output_type": "display_data"
    },
    {
     "name": "stdout",
     "output_type": "stream",
     "text": [
      "-----------------------------------------------------------------------------------------------------\n"
     ]
    }
   ],
   "source": [
    "# To build the 'RandomForestClassifier' model with random sampling with Hyperparametr tuning with gridseachCV\n",
    "\n",
    "from sklearn.ensemble import RandomForestClassifier\n",
    "\n",
    "ModelRF3 = RandomForestClassifier(n_estimators=200, criterion='gini', max_depth=10, min_samples_split=3,\n",
    "                                  min_samples_leaf=3, min_weight_fraction_leaf=0.0, max_features=3, \n",
    "                                  max_leaf_nodes=None, min_impurity_decrease=0.0, bootstrap=False, oob_score=False, \n",
    "                                  n_jobs=None, random_state=None, verbose=0, warm_start=False, class_weight=None, \n",
    "                                  ccp_alpha=0.0, max_samples=None)\n",
    "\n",
    "# Train the model with train data \n",
    "\n",
    "ModelRF3.fit(x_train,y_train)\n",
    "\n",
    "# Predict the model with test data set\n",
    "\n",
    "y_pred = ModelRF3.predict(x_test)\n",
    "y_pred_prob = ModelRF3.predict_proba(x_test)\n",
    "\n",
    "# Confusion matrix in sklearn\n",
    "\n",
    "from sklearn.metrics import confusion_matrix\n",
    "from sklearn.metrics import classification_report\n",
    "\n",
    "# actual values\n",
    "\n",
    "actual = y_test\n",
    "\n",
    "# predicted values\n",
    "\n",
    "predicted = y_pred\n",
    "\n",
    "# confusion matrix\n",
    "\n",
    "matrix = confusion_matrix(actual,predicted, labels=[1,0],sample_weight=None, normalize=None)\n",
    "print('Confusion matrix : \\n', matrix)\n",
    "\n",
    "# outcome values order in sklearn\n",
    "\n",
    "tp, fn, fp, tn = confusion_matrix(actual,predicted,labels=[1,0]).reshape(-1)\n",
    "print('Outcome values : \\n', tp, fn, fp, tn)\n",
    "\n",
    "# classification report for precision, recall f1-score and accuracy\n",
    "\n",
    "C_Report = classification_report(actual,predicted,labels=[1,0])\n",
    "\n",
    "print('Classification report : \\n', C_Report)\n",
    "\n",
    "# calculating the metrics\n",
    "\n",
    "sensitivity = round(tp/(tp+fn), 3);\n",
    "specificity = round(tn/(tn+fp), 3);\n",
    "accuracy = round((tp+tn)/(tp+fp+tn+fn), 3);\n",
    "balanced_accuracy = round((sensitivity+specificity)/2, 3);\n",
    "precision = round(tp/(tp+fp), 3);\n",
    "f1Score = round((2*tp/(2*tp + fp + fn)), 3);\n",
    "\n",
    "# Matthews Correlation Coefficient (MCC). Range of values of MCC lie between -1 to +1. \n",
    "# A model with a score of +1 is a perfect model and -1 is a poor model\n",
    "\n",
    "from math import sqrt\n",
    "\n",
    "mx = (tp+fp) * (tp+fn) * (tn+fp) * (tn+fn)\n",
    "MCC = round(((tp * tn) - (fp * fn)) / sqrt(mx), 3)\n",
    "\n",
    "print('Accuracy :', round(accuracy*100, 2),'%')\n",
    "print('Precision :', round(precision*100, 2),'%')\n",
    "print('Recall :', round(sensitivity*100,2), '%')\n",
    "print('F1 Score :', f1Score)\n",
    "print('Specificity or True Negative Rate :', round(specificity*100,2), '%'  )\n",
    "print('Balanced Accuracy :', round(balanced_accuracy*100, 2),'%')\n",
    "print('MCC :', MCC)\n",
    "\n",
    "# Area under ROC curve \n",
    "\n",
    "from sklearn.metrics import roc_curve, roc_auc_score\n",
    "\n",
    "print('roc_auc_score:', round(roc_auc_score(actual, predicted), 3))\n",
    "\n",
    "# ROC Curve\n",
    "\n",
    "from sklearn.metrics import roc_auc_score\n",
    "from sklearn.metrics import roc_curve\n",
    "logit_roc_auc = roc_auc_score(actual, predicted)\n",
    "fpr, tpr, thresholds = roc_curve(actual, ModelRF3.predict_proba(x_test)[:,1])\n",
    "plt.figure()\n",
    "# plt.plot(fpr, tpr, label='Logistic Regression (area = %0.2f)' % logit_roc_auc)\n",
    "plt.plot(fpr, tpr, label= 'Classification Model' % logit_roc_auc)\n",
    "plt.plot([0, 1], [0, 1],'r--')\n",
    "plt.xlim([0.0, 1.0])\n",
    "plt.ylim([0.0, 1.05])\n",
    "plt.xlabel('False Positive Rate')\n",
    "plt.ylabel('True Positive Rate')\n",
    "plt.title('Receiver operating characteristic')\n",
    "plt.legend(loc=\"lower right\")\n",
    "plt.savefig('Log_ROC')\n",
    "plt.show() \n",
    "print('-----------------------------------------------------------------------------------------------------')\n",
    "#----------------------------------------------------------------------------------------------------------\n",
    "new_row = {'Model Name' : ModelRF3,\n",
    "           'True_Positive': tp,\n",
    "           'False_Negative': fn, \n",
    "           'False_Positive': fp, \n",
    "           'True_Negative': tn,\n",
    "           'Accuracy' : accuracy,\n",
    "           'Precision' : precision,\n",
    "           'Recall' : sensitivity,\n",
    "           'F1 Score' : f1Score,\n",
    "           'Specificity' : specificity,\n",
    "           'MCC':MCC,\n",
    "           'ROC_AUC_Score':roc_auc_score(actual, predicted),\n",
    "           'Balanced Accuracy':balanced_accuracy}\n",
    "HTResults = HTResults.append(new_row, ignore_index=True)\n",
    "#----------------------------------------------------------------------------------------------------------"
   ]
  },
  {
   "cell_type": "code",
   "execution_count": 57,
   "metadata": {},
   "outputs": [
    {
     "data": {
      "text/html": [
       "<div>\n",
       "<style scoped>\n",
       "    .dataframe tbody tr th:only-of-type {\n",
       "        vertical-align: middle;\n",
       "    }\n",
       "\n",
       "    .dataframe tbody tr th {\n",
       "        vertical-align: top;\n",
       "    }\n",
       "\n",
       "    .dataframe thead th {\n",
       "        text-align: right;\n",
       "    }\n",
       "</style>\n",
       "<table border=\"1\" class=\"dataframe\">\n",
       "  <thead>\n",
       "    <tr style=\"text-align: right;\">\n",
       "      <th></th>\n",
       "      <th>Model Name</th>\n",
       "      <th>True_Positive</th>\n",
       "      <th>False_Negative</th>\n",
       "      <th>False_Positive</th>\n",
       "      <th>True_Negative</th>\n",
       "      <th>Accuracy</th>\n",
       "      <th>Precision</th>\n",
       "      <th>Recall</th>\n",
       "      <th>F1 Score</th>\n",
       "      <th>Specificity</th>\n",
       "      <th>MCC</th>\n",
       "      <th>ROC_AUC_Score</th>\n",
       "      <th>Balanced Accuracy</th>\n",
       "    </tr>\n",
       "  </thead>\n",
       "  <tbody>\n",
       "    <tr>\n",
       "      <th>0</th>\n",
       "      <td>(DecisionTreeClassifier(max_features='sqrt', r...</td>\n",
       "      <td>26</td>\n",
       "      <td>42</td>\n",
       "      <td>12</td>\n",
       "      <td>220</td>\n",
       "      <td>0.820</td>\n",
       "      <td>0.684</td>\n",
       "      <td>0.382</td>\n",
       "      <td>0.491</td>\n",
       "      <td>0.948</td>\n",
       "      <td>0.416</td>\n",
       "      <td>0.665314</td>\n",
       "      <td>0.665</td>\n",
       "    </tr>\n",
       "    <tr>\n",
       "      <th>1</th>\n",
       "      <td>(DecisionTreeClassifier(max_depth=10, max_feat...</td>\n",
       "      <td>25</td>\n",
       "      <td>43</td>\n",
       "      <td>9</td>\n",
       "      <td>223</td>\n",
       "      <td>0.827</td>\n",
       "      <td>0.735</td>\n",
       "      <td>0.368</td>\n",
       "      <td>0.490</td>\n",
       "      <td>0.961</td>\n",
       "      <td>0.434</td>\n",
       "      <td>0.664427</td>\n",
       "      <td>0.664</td>\n",
       "    </tr>\n",
       "  </tbody>\n",
       "</table>\n",
       "</div>"
      ],
      "text/plain": [
       "                                          Model Name True_Positive  \\\n",
       "0  (DecisionTreeClassifier(max_features='sqrt', r...            26   \n",
       "1  (DecisionTreeClassifier(max_depth=10, max_feat...            25   \n",
       "\n",
       "  False_Negative False_Positive True_Negative  Accuracy  Precision  Recall  \\\n",
       "0             42             12           220     0.820      0.684   0.382   \n",
       "1             43              9           223     0.827      0.735   0.368   \n",
       "\n",
       "   F1 Score  Specificity    MCC  ROC_AUC_Score  Balanced Accuracy  \n",
       "0     0.491        0.948  0.416       0.665314              0.665  \n",
       "1     0.490        0.961  0.434       0.664427              0.664  "
      ]
     },
     "execution_count": 57,
     "metadata": {},
     "output_type": "execute_result"
    }
   ],
   "source": [
    "HTResults.head()"
   ]
  },
  {
   "cell_type": "markdown",
   "metadata": {},
   "source": [
    "# Hyperparameter tuning with RandomizedSearchCV"
   ]
  },
  {
   "cell_type": "code",
   "execution_count": 58,
   "metadata": {},
   "outputs": [],
   "source": [
    "# Hyperparameter tuning using RandomizedSearchCV\n",
    "\n",
    "n_estimators = [int(x) for x in np.linspace(start = 200, stop = 2000, num = 10)] # number of trees in the random forest \n",
    "max_features = ['auto', 'sqrt', 'log2'] # number of features in consideration at every split\n",
    "max_depth = [int(x) for x in np.linspace(10, 120, num = 12)] # maximum number of levels allowed in each decision tree\n",
    "min_samples_split = [2, 6, 10] # minimum sample number to split a node\n",
    "min_samples_leaf = [1, 3, 4] # minimum sample number that can be stored in a leaf node\n",
    "bootstrap = [True, False] # method used to sample data points\n",
    "\n",
    "random_grid = {'n_estimators': n_estimators,\n",
    "\n",
    "'max_features': max_features,\n",
    "\n",
    "'max_depth': max_depth,\n",
    "\n",
    "'min_samples_split': min_samples_split,\n",
    "\n",
    "'min_samples_leaf': min_samples_leaf,\n",
    "\n",
    "'bootstrap': bootstrap}"
   ]
  },
  {
   "cell_type": "code",
   "execution_count": 59,
   "metadata": {},
   "outputs": [
    {
     "name": "stdout",
     "output_type": "stream",
     "text": [
      "Fitting 3 folds for each of 100 candidates, totalling 300 fits\n"
     ]
    },
    {
     "name": "stderr",
     "output_type": "stream",
     "text": [
      "[Parallel(n_jobs=-1)]: Using backend LokyBackend with 8 concurrent workers.\n",
      "[Parallel(n_jobs=-1)]: Done  25 tasks      | elapsed:   48.1s\n",
      "[Parallel(n_jobs=-1)]: Done 146 tasks      | elapsed:  2.9min\n",
      "[Parallel(n_jobs=-1)]: Done 300 out of 300 | elapsed:  5.7min finished\n"
     ]
    },
    {
     "data": {
      "text/plain": [
       "RandomizedSearchCV(cv=3, estimator=RandomForestClassifier(), n_iter=100,\n",
       "                   n_jobs=-1,\n",
       "                   param_distributions={'bootstrap': [True, False],\n",
       "                                        'max_depth': [10, 20, 30, 40, 50, 60,\n",
       "                                                      70, 80, 90, 100, 110,\n",
       "                                                      120],\n",
       "                                        'max_features': ['auto', 'sqrt',\n",
       "                                                         'log2'],\n",
       "                                        'min_samples_leaf': [1, 3, 4],\n",
       "                                        'min_samples_split': [2, 6, 10],\n",
       "                                        'n_estimators': [200, 400, 600, 800,\n",
       "                                                         1000, 1200, 1400, 1600,\n",
       "                                                         1800, 2000]},\n",
       "                   random_state=35, verbose=2)"
      ]
     },
     "execution_count": 59,
     "metadata": {},
     "output_type": "execute_result"
    }
   ],
   "source": [
    "# Importing Random Forest Classifier from the sklearn.ensemble\n",
    "\n",
    "from sklearn.ensemble import RandomForestClassifier\n",
    "\n",
    "ModelRF4 = RandomForestClassifier()\n",
    "\n",
    "from sklearn.model_selection import RandomizedSearchCV\n",
    "\n",
    "rf_random = RandomizedSearchCV(estimator = ModelRF4,param_distributions = random_grid,\n",
    "                               n_iter = 100, cv = 3, verbose=2, random_state=35, n_jobs = -1)\n",
    "\n",
    "# Fit the model with train data\n",
    "\n",
    "rf_random.fit(x_train, y_train)"
   ]
  },
  {
   "cell_type": "code",
   "execution_count": 60,
   "metadata": {},
   "outputs": [
    {
     "name": "stdout",
     "output_type": "stream",
     "text": [
      "Random grid:  {'n_estimators': [200, 400, 600, 800, 1000, 1200, 1400, 1600, 1800, 2000], 'max_features': ['auto', 'sqrt', 'log2'], 'max_depth': [10, 20, 30, 40, 50, 60, 70, 80, 90, 100, 110, 120], 'min_samples_split': [2, 6, 10], 'min_samples_leaf': [1, 3, 4], 'bootstrap': [True, False]} \n",
      "\n",
      "Best Parameters:  {'n_estimators': 2000, 'min_samples_split': 10, 'min_samples_leaf': 1, 'max_features': 'log2', 'max_depth': 100, 'bootstrap': False}  \n",
      "\n"
     ]
    }
   ],
   "source": [
    "# Print the best parameters\n",
    "\n",
    "print ('Random grid: ', random_grid, '\\n')\n",
    "\n",
    "# print the best parameters\n",
    "\n",
    "print ('Best Parameters: ', rf_random.best_params_, ' \\n')"
   ]
  },
  {
   "cell_type": "code",
   "execution_count": null,
   "metadata": {},
   "outputs": [],
   "source": [
    "#Best Parameters:  {'n_estimators': 800, 'min_samples_split': 10, 'min_samples_leaf': 1, 'max_features': 'auto', \n",
    "#                   'max_depth': 20, 'bootstrap': False}  "
   ]
  },
  {
   "cell_type": "code",
   "execution_count": 61,
   "metadata": {},
   "outputs": [
    {
     "name": "stdout",
     "output_type": "stream",
     "text": [
      "Confusion matrix : \n",
      " [[  0  68]\n",
      " [  0 232]]\n",
      "Outcome values : \n",
      " 0 68 0 232\n",
      "Classification report : \n",
      "               precision    recall  f1-score   support\n",
      "\n",
      "           1       0.00      0.00      0.00        68\n",
      "           0       0.77      1.00      0.87       232\n",
      "\n",
      "    accuracy                           0.77       300\n",
      "   macro avg       0.39      0.50      0.44       300\n",
      "weighted avg       0.60      0.77      0.67       300\n",
      "\n",
      "Accuracy : 77.3 %\n",
      "Precision : nan %\n",
      "Recall : 0.0 %\n",
      "F1 Score : 0.0\n",
      "Specificity or True Negative Rate : 100.0 %\n",
      "Balanced Accuracy : 50.0 %\n",
      "MCC : nan\n",
      "roc_auc_score: 0.5\n"
     ]
    },
    {
     "data": {
      "image/png": "[encoded data removed]",
      "text/plain": [
       "<Figure size 432x288 with 1 Axes>"
      ]
     },
     "metadata": {
      "needs_background": "light"
     },
     "output_type": "display_data"
    },
    {
     "name": "stdout",
     "output_type": "stream",
     "text": [
      "-----------------------------------------------------------------------------------------------------\n"
     ]
    }
   ],
   "source": [
    "# To build the 'RandomForestClassifier' model with random sampling with Hyperparametr tuning with RandomizedSearchCV\n",
    "\n",
    "from sklearn.ensemble import RandomForestClassifier\n",
    "\n",
    "ModelRF5 = RandomForestClassifier(n_estimators=2000, criterion='gini', max_depth=1, min_samples_split=10,\n",
    "                                  min_samples_leaf=1, min_weight_fraction_leaf=0.0, max_features='log2', \n",
    "                                  max_leaf_nodes=None, min_impurity_decrease=0.0, bootstrap=False, oob_score=False, \n",
    "                                  n_jobs=None, random_state=None, verbose=0, warm_start=False, class_weight=None, \n",
    "                                  ccp_alpha=0.0, max_samples=None)\n",
    "\n",
    "# Train the model with train data \n",
    "\n",
    "ModelRF5.fit(x_train,y_train)\n",
    "\n",
    "# Predict the model with test data set\n",
    "\n",
    "y_pred = ModelRF5.predict(x_test)\n",
    "y_pred_prob = ModelRF5.predict_proba(x_test)\n",
    "\n",
    "# Confusion matrix in sklearn\n",
    "\n",
    "from sklearn.metrics import confusion_matrix\n",
    "from sklearn.metrics import classification_report\n",
    "\n",
    "# actual values\n",
    "\n",
    "actual = y_test\n",
    "\n",
    "# predicted values\n",
    "\n",
    "predicted = y_pred\n",
    "\n",
    "# confusion matrix\n",
    "\n",
    "matrix = confusion_matrix(actual,predicted, labels=[1,0],sample_weight=None, normalize=None)\n",
    "print('Confusion matrix : \\n', matrix)\n",
    "\n",
    "# outcome values order in sklearn\n",
    "\n",
    "tp, fn, fp, tn = confusion_matrix(actual,predicted,labels=[1,0]).reshape(-1)\n",
    "print('Outcome values : \\n', tp, fn, fp, tn)\n",
    "\n",
    "# classification report for precision, recall f1-score and accuracy\n",
    "\n",
    "C_Report = classification_report(actual,predicted,labels=[1,0])\n",
    "\n",
    "print('Classification report : \\n', C_Report)\n",
    "\n",
    "# calculating the metrics\n",
    "\n",
    "sensitivity = round(tp/(tp+fn), 3);\n",
    "specificity = round(tn/(tn+fp), 3);\n",
    "accuracy = round((tp+tn)/(tp+fp+tn+fn), 3);\n",
    "balanced_accuracy = round((sensitivity+specificity)/2, 3);\n",
    "precision = round(tp/(tp+fp), 3);\n",
    "f1Score = round((2*tp/(2*tp + fp + fn)), 3);\n",
    "\n",
    "# Matthews Correlation Coefficient (MCC). Range of values of MCC lie between -1 to +1. \n",
    "# A model with a score of +1 is a perfect model and -1 is a poor model\n",
    "\n",
    "from math import sqrt\n",
    "\n",
    "mx = (tp+fp) * (tp+fn) * (tn+fp) * (tn+fn)\n",
    "MCC = round(((tp * tn) - (fp * fn)) / sqrt(mx), 3)\n",
    "\n",
    "print('Accuracy :', round(accuracy*100, 2),'%')\n",
    "print('Precision :', round(precision*100, 2),'%')\n",
    "print('Recall :', round(sensitivity*100,2), '%')\n",
    "print('F1 Score :', f1Score)\n",
    "print('Specificity or True Negative Rate :', round(specificity*100,2), '%'  )\n",
    "print('Balanced Accuracy :', round(balanced_accuracy*100, 2),'%')\n",
    "print('MCC :', MCC)\n",
    "\n",
    "# Area under ROC curve \n",
    "\n",
    "from sklearn.metrics import roc_curve, roc_auc_score\n",
    "\n",
    "print('roc_auc_score:', round(roc_auc_score(actual, predicted), 3))\n",
    "\n",
    "# ROC Curve\n",
    "\n",
    "from sklearn.metrics import roc_auc_score\n",
    "from sklearn.metrics import roc_curve\n",
    "logit_roc_auc = roc_auc_score(actual, predicted)\n",
    "fpr, tpr, thresholds = roc_curve(actual, ModelRF5.predict_proba(x_test)[:,1])\n",
    "plt.figure()\n",
    "# plt.plot(fpr, tpr, label='Logistic Regression (area = %0.2f)' % logit_roc_auc)\n",
    "plt.plot(fpr, tpr, label= 'Classification Model' % logit_roc_auc)\n",
    "plt.plot([0, 1], [0, 1],'r--')\n",
    "plt.xlim([0.0, 1.0])\n",
    "plt.ylim([0.0, 1.05])\n",
    "plt.xlabel('False Positive Rate')\n",
    "plt.ylabel('True Positive Rate')\n",
    "plt.title('Receiver operating characteristic')\n",
    "plt.legend(loc=\"lower right\")\n",
    "plt.savefig('Log_ROC')\n",
    "plt.show() \n",
    "print('-----------------------------------------------------------------------------------------------------')\n",
    "#----------------------------------------------------------------------------------------------------------\n",
    "new_row = {'Model Name' : ModelRF5,\n",
    "           'True_Positive': tp,\n",
    "           'False_Negative': fn, \n",
    "           'False_Positive': fp, \n",
    "           'True_Negative': tn,\n",
    "           'Accuracy' : accuracy,\n",
    "           'Precision' : precision,\n",
    "           'Recall' : sensitivity,\n",
    "           'F1 Score' : f1Score,\n",
    "           'Specificity' : specificity,\n",
    "           'MCC':MCC,\n",
    "           'ROC_AUC_Score':roc_auc_score(actual, predicted),\n",
    "           'Balanced Accuracy':balanced_accuracy}\n",
    "HTResults = HTResults.append(new_row, ignore_index=True)\n",
    "#----------------------------------------------------------------------------------------------------------"
   ]
  },
  {
   "cell_type": "code",
   "execution_count": 62,
   "metadata": {},
   "outputs": [
    {
     "data": {
      "text/html": [
       "<div>\n",
       "<style scoped>\n",
       "    .dataframe tbody tr th:only-of-type {\n",
       "        vertical-align: middle;\n",
       "    }\n",
       "\n",
       "    .dataframe tbody tr th {\n",
       "        vertical-align: top;\n",
       "    }\n",
       "\n",
       "    .dataframe thead th {\n",
       "        text-align: right;\n",
       "    }\n",
       "</style>\n",
       "<table border=\"1\" class=\"dataframe\">\n",
       "  <thead>\n",
       "    <tr style=\"text-align: right;\">\n",
       "      <th></th>\n",
       "      <th>Model Name</th>\n",
       "      <th>True_Positive</th>\n",
       "      <th>False_Negative</th>\n",
       "      <th>False_Positive</th>\n",
       "      <th>True_Negative</th>\n",
       "      <th>Accuracy</th>\n",
       "      <th>Precision</th>\n",
       "      <th>Recall</th>\n",
       "      <th>F1 Score</th>\n",
       "      <th>Specificity</th>\n",
       "      <th>MCC</th>\n",
       "      <th>ROC_AUC_Score</th>\n",
       "      <th>Balanced Accuracy</th>\n",
       "    </tr>\n",
       "  </thead>\n",
       "  <tbody>\n",
       "    <tr>\n",
       "      <th>0</th>\n",
       "      <td>(DecisionTreeClassifier(max_features='sqrt', r...</td>\n",
       "      <td>26</td>\n",
       "      <td>42</td>\n",
       "      <td>12</td>\n",
       "      <td>220</td>\n",
       "      <td>0.820</td>\n",
       "      <td>0.684</td>\n",
       "      <td>0.382</td>\n",
       "      <td>0.491</td>\n",
       "      <td>0.948</td>\n",
       "      <td>0.416</td>\n",
       "      <td>0.665314</td>\n",
       "      <td>0.665</td>\n",
       "    </tr>\n",
       "    <tr>\n",
       "      <th>1</th>\n",
       "      <td>(DecisionTreeClassifier(max_depth=10, max_feat...</td>\n",
       "      <td>25</td>\n",
       "      <td>43</td>\n",
       "      <td>9</td>\n",
       "      <td>223</td>\n",
       "      <td>0.827</td>\n",
       "      <td>0.735</td>\n",
       "      <td>0.368</td>\n",
       "      <td>0.490</td>\n",
       "      <td>0.961</td>\n",
       "      <td>0.434</td>\n",
       "      <td>0.664427</td>\n",
       "      <td>0.664</td>\n",
       "    </tr>\n",
       "    <tr>\n",
       "      <th>2</th>\n",
       "      <td>(DecisionTreeClassifier(max_depth=1, max_featu...</td>\n",
       "      <td>0</td>\n",
       "      <td>68</td>\n",
       "      <td>0</td>\n",
       "      <td>232</td>\n",
       "      <td>0.773</td>\n",
       "      <td>NaN</td>\n",
       "      <td>0.000</td>\n",
       "      <td>0.000</td>\n",
       "      <td>1.000</td>\n",
       "      <td>NaN</td>\n",
       "      <td>0.500000</td>\n",
       "      <td>0.500</td>\n",
       "    </tr>\n",
       "  </tbody>\n",
       "</table>\n",
       "</div>"
      ],
      "text/plain": [
       "                                          Model Name True_Positive  \\\n",
       "0  (DecisionTreeClassifier(max_features='sqrt', r...            26   \n",
       "1  (DecisionTreeClassifier(max_depth=10, max_feat...            25   \n",
       "2  (DecisionTreeClassifier(max_depth=1, max_featu...             0   \n",
       "\n",
       "  False_Negative False_Positive True_Negative  Accuracy  Precision  Recall  \\\n",
       "0             42             12           220     0.820      0.684   0.382   \n",
       "1             43              9           223     0.827      0.735   0.368   \n",
       "2             68              0           232     0.773        NaN   0.000   \n",
       "\n",
       "   F1 Score  Specificity    MCC  ROC_AUC_Score  Balanced Accuracy  \n",
       "0     0.491        0.948  0.416       0.665314              0.665  \n",
       "1     0.490        0.961  0.434       0.664427              0.664  \n",
       "2     0.000        1.000    NaN       0.500000              0.500  "
      ]
     },
     "execution_count": 62,
     "metadata": {},
     "output_type": "execute_result"
    }
   ],
   "source": [
    "HTResults.head()"
   ]
  },
  {
   "cell_type": "code",
   "execution_count": null,
   "metadata": {},
   "outputs": [],
   "source": []
  }
 ],
 "metadata": {
  "kernelspec": {
   "display_name": "Python 3",
   "language": "python",
   "name": "python3"
  },
  "language_info": {
   "codemirror_mode": {
    "name": "ipython",
    "version": 3
   },
   "file_extension": ".py",
   "mimetype": "text/x-python",
   "name": "python",
   "nbconvert_exporter": "python",
   "pygments_lexer": "ipython3",
   "version": "3.7.6"
  }
 },
 "nbformat": 4,
 "nbformat_minor": 4
}
