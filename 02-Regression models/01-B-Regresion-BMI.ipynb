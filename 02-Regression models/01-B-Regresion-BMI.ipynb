{
 "cells": [
  {
   "cell_type": "code",
   "execution_count": 1,
   "metadata": {},
   "outputs": [],
   "source": [
    "# Importing the libraries \n",
    "\n",
    "import pandas as pd\n",
    "import numpy as np \n",
    "import matplotlib.pyplot as plt"
   ]
  },
  {
   "cell_type": "code",
   "execution_count": 2,
   "metadata": {},
   "outputs": [],
   "source": [
    "# Ignore harmless warnings \n",
    "\n",
    "import warnings \n",
    "warnings.filterwarnings(\"ignore\")"
   ]
  },
  {
   "cell_type": "code",
   "execution_count": 3,
   "metadata": {},
   "outputs": [],
   "source": [
    "# Set to display all the columns in dataset\n",
    "\n",
    "pd.set_option(\"display.max_columns\", None)"
   ]
  },
  {
   "cell_type": "code",
   "execution_count": 4,
   "metadata": {},
   "outputs": [],
   "source": [
    "# Import pandasql to run queries \n",
    "\n",
    "import pandasql as psql"
   ]
  },
  {
   "cell_type": "code",
   "execution_count": 5,
   "metadata": {},
   "outputs": [],
   "source": [
    "#pip install pandasql"
   ]
  },
  {
   "cell_type": "code",
   "execution_count": 10,
   "metadata": {},
   "outputs": [],
   "source": [
    "# load the CO2 Emission dataset \n",
    "\n",
    "BMI = pd.read_csv(r\"E:\\win7\\files\\Raju sir\\BMI_Analysis_V1.1.csv\", header=0)"
   ]
  },
  {
   "cell_type": "code",
   "execution_count": 11,
   "metadata": {},
   "outputs": [],
   "source": [
    "# Copy the file to back-up file\n",
    "\n",
    "BMI_bk = BMI.copy()"
   ]
  },
  {
   "cell_type": "code",
   "execution_count": 12,
   "metadata": {},
   "outputs": [
    {
     "data": {
      "text/html": [
       "<div>\n",
       "<style scoped>\n",
       "    .dataframe tbody tr th:only-of-type {\n",
       "        vertical-align: middle;\n",
       "    }\n",
       "\n",
       "    .dataframe tbody tr th {\n",
       "        vertical-align: top;\n",
       "    }\n",
       "\n",
       "    .dataframe thead th {\n",
       "        text-align: right;\n",
       "    }\n",
       "</style>\n",
       "<table border=\"1\" class=\"dataframe\">\n",
       "  <thead>\n",
       "    <tr style=\"text-align: right;\">\n",
       "      <th></th>\n",
       "      <th>Height_M</th>\n",
       "      <th>Weight_kg</th>\n",
       "      <th>Fat_age</th>\n",
       "      <th>BMI</th>\n",
       "    </tr>\n",
       "  </thead>\n",
       "  <tbody>\n",
       "    <tr>\n",
       "      <th>0</th>\n",
       "      <td>1.60</td>\n",
       "      <td>49.44</td>\n",
       "      <td>23.9</td>\n",
       "      <td>19.31</td>\n",
       "    </tr>\n",
       "    <tr>\n",
       "      <th>1</th>\n",
       "      <td>1.65</td>\n",
       "      <td>62.60</td>\n",
       "      <td>28.8</td>\n",
       "      <td>22.96</td>\n",
       "    </tr>\n",
       "    <tr>\n",
       "      <th>2</th>\n",
       "      <td>1.65</td>\n",
       "      <td>75.75</td>\n",
       "      <td>32.4</td>\n",
       "      <td>27.79</td>\n",
       "    </tr>\n",
       "    <tr>\n",
       "      <th>3</th>\n",
       "      <td>1.53</td>\n",
       "      <td>48.99</td>\n",
       "      <td>25.8</td>\n",
       "      <td>20.92</td>\n",
       "    </tr>\n",
       "    <tr>\n",
       "      <th>4</th>\n",
       "      <td>1.45</td>\n",
       "      <td>43.09</td>\n",
       "      <td>22.5</td>\n",
       "      <td>20.38</td>\n",
       "    </tr>\n",
       "  </tbody>\n",
       "</table>\n",
       "</div>"
      ],
      "text/plain": [
       "   Height_M  Weight_kg  Fat_age    BMI\n",
       "0      1.60      49.44     23.9  19.31\n",
       "1      1.65      62.60     28.8  22.96\n",
       "2      1.65      75.75     32.4  27.79\n",
       "3      1.53      48.99     25.8  20.92\n",
       "4      1.45      43.09     22.5  20.38"
      ]
     },
     "execution_count": 12,
     "metadata": {},
     "output_type": "execute_result"
    }
   ],
   "source": [
    "# Display first 5 records\n",
    "\n",
    "BMI.head()"
   ]
  },
  {
   "cell_type": "code",
   "execution_count": 13,
   "metadata": {},
   "outputs": [
    {
     "data": {
      "text/html": [
       "<div>\n",
       "<style scoped>\n",
       "    .dataframe tbody tr th:only-of-type {\n",
       "        vertical-align: middle;\n",
       "    }\n",
       "\n",
       "    .dataframe tbody tr th {\n",
       "        vertical-align: top;\n",
       "    }\n",
       "\n",
       "    .dataframe thead th {\n",
       "        text-align: right;\n",
       "    }\n",
       "</style>\n",
       "<table border=\"1\" class=\"dataframe\">\n",
       "  <thead>\n",
       "    <tr style=\"text-align: right;\">\n",
       "      <th></th>\n",
       "      <th>Height_M</th>\n",
       "      <th>Weight_kg</th>\n",
       "      <th>Fat_age</th>\n",
       "      <th>BMI</th>\n",
       "    </tr>\n",
       "  </thead>\n",
       "  <tbody>\n",
       "    <tr>\n",
       "      <th>87</th>\n",
       "      <td>1.49</td>\n",
       "      <td>39.01</td>\n",
       "      <td>23.3</td>\n",
       "      <td>17.52</td>\n",
       "    </tr>\n",
       "    <tr>\n",
       "      <th>88</th>\n",
       "      <td>1.60</td>\n",
       "      <td>41.28</td>\n",
       "      <td>20.1</td>\n",
       "      <td>16.12</td>\n",
       "    </tr>\n",
       "    <tr>\n",
       "      <th>89</th>\n",
       "      <td>1.42</td>\n",
       "      <td>38.10</td>\n",
       "      <td>30.3</td>\n",
       "      <td>18.83</td>\n",
       "    </tr>\n",
       "    <tr>\n",
       "      <th>90</th>\n",
       "      <td>1.40</td>\n",
       "      <td>30.16</td>\n",
       "      <td>20.6</td>\n",
       "      <td>15.46</td>\n",
       "    </tr>\n",
       "    <tr>\n",
       "      <th>91</th>\n",
       "      <td>1.45</td>\n",
       "      <td>38.56</td>\n",
       "      <td>26.0</td>\n",
       "      <td>18.39</td>\n",
       "    </tr>\n",
       "  </tbody>\n",
       "</table>\n",
       "</div>"
      ],
      "text/plain": [
       "    Height_M  Weight_kg  Fat_age    BMI\n",
       "87      1.49      39.01     23.3  17.52\n",
       "88      1.60      41.28     20.1  16.12\n",
       "89      1.42      38.10     30.3  18.83\n",
       "90      1.40      30.16     20.6  15.46\n",
       "91      1.45      38.56     26.0  18.39"
      ]
     },
     "execution_count": 13,
     "metadata": {},
     "output_type": "execute_result"
    }
   ],
   "source": [
    "# Display last five records\n",
    "\n",
    "BMI.tail()"
   ]
  },
  {
   "cell_type": "code",
   "execution_count": 14,
   "metadata": {},
   "outputs": [
    {
     "data": {
      "text/html": [
       "<div>\n",
       "<style scoped>\n",
       "    .dataframe tbody tr th:only-of-type {\n",
       "        vertical-align: middle;\n",
       "    }\n",
       "\n",
       "    .dataframe tbody tr th {\n",
       "        vertical-align: top;\n",
       "    }\n",
       "\n",
       "    .dataframe thead th {\n",
       "        text-align: right;\n",
       "    }\n",
       "</style>\n",
       "<table border=\"1\" class=\"dataframe\">\n",
       "  <thead>\n",
       "    <tr style=\"text-align: right;\">\n",
       "      <th></th>\n",
       "      <th>Height_M</th>\n",
       "      <th>Weight_kg</th>\n",
       "      <th>Fat_age</th>\n",
       "      <th>BMI</th>\n",
       "    </tr>\n",
       "  </thead>\n",
       "  <tbody>\n",
       "    <tr>\n",
       "      <th>50</th>\n",
       "      <td>1.58</td>\n",
       "      <td>60.33</td>\n",
       "      <td>39.7</td>\n",
       "      <td>24.13</td>\n",
       "    </tr>\n",
       "    <tr>\n",
       "      <th>43</th>\n",
       "      <td>1.37</td>\n",
       "      <td>29.48</td>\n",
       "      <td>20.6</td>\n",
       "      <td>15.82</td>\n",
       "    </tr>\n",
       "    <tr>\n",
       "      <th>69</th>\n",
       "      <td>1.61</td>\n",
       "      <td>63.96</td>\n",
       "      <td>32.2</td>\n",
       "      <td>24.78</td>\n",
       "    </tr>\n",
       "    <tr>\n",
       "      <th>21</th>\n",
       "      <td>1.48</td>\n",
       "      <td>42.18</td>\n",
       "      <td>31.3</td>\n",
       "      <td>19.27</td>\n",
       "    </tr>\n",
       "    <tr>\n",
       "      <th>67</th>\n",
       "      <td>1.57</td>\n",
       "      <td>59.87</td>\n",
       "      <td>26.4</td>\n",
       "      <td>24.14</td>\n",
       "    </tr>\n",
       "    <tr>\n",
       "      <th>80</th>\n",
       "      <td>1.46</td>\n",
       "      <td>40.37</td>\n",
       "      <td>20.5</td>\n",
       "      <td>18.93</td>\n",
       "    </tr>\n",
       "    <tr>\n",
       "      <th>54</th>\n",
       "      <td>1.64</td>\n",
       "      <td>77.34</td>\n",
       "      <td>42.2</td>\n",
       "      <td>28.59</td>\n",
       "    </tr>\n",
       "    <tr>\n",
       "      <th>35</th>\n",
       "      <td>1.63</td>\n",
       "      <td>47.17</td>\n",
       "      <td>28.8</td>\n",
       "      <td>17.71</td>\n",
       "    </tr>\n",
       "    <tr>\n",
       "      <th>78</th>\n",
       "      <td>1.47</td>\n",
       "      <td>34.93</td>\n",
       "      <td>21.1</td>\n",
       "      <td>16.09</td>\n",
       "    </tr>\n",
       "    <tr>\n",
       "      <th>39</th>\n",
       "      <td>1.50</td>\n",
       "      <td>35.95</td>\n",
       "      <td>19.5</td>\n",
       "      <td>15.87</td>\n",
       "    </tr>\n",
       "  </tbody>\n",
       "</table>\n",
       "</div>"
      ],
      "text/plain": [
       "    Height_M  Weight_kg  Fat_age    BMI\n",
       "50      1.58      60.33     39.7  24.13\n",
       "43      1.37      29.48     20.6  15.82\n",
       "69      1.61      63.96     32.2  24.78\n",
       "21      1.48      42.18     31.3  19.27\n",
       "67      1.57      59.87     26.4  24.14\n",
       "80      1.46      40.37     20.5  18.93\n",
       "54      1.64      77.34     42.2  28.59\n",
       "35      1.63      47.17     28.8  17.71\n",
       "78      1.47      34.93     21.1  16.09\n",
       "39      1.50      35.95     19.5  15.87"
      ]
     },
     "execution_count": 14,
     "metadata": {},
     "output_type": "execute_result"
    }
   ],
   "source": [
    "# Display the 10 records randomly\n",
    "\n",
    "BMI.sample(10)"
   ]
  },
  {
   "cell_type": "code",
   "execution_count": 16,
   "metadata": {},
   "outputs": [
    {
     "name": "stdout",
     "output_type": "stream",
     "text": [
      "<class 'pandas.core.frame.DataFrame'>\n",
      "RangeIndex: 92 entries, 0 to 91\n",
      "Data columns (total 4 columns):\n",
      " #   Column     Non-Null Count  Dtype  \n",
      "---  ------     --------------  -----  \n",
      " 0   Height_M   92 non-null     float64\n",
      " 1   Weight_kg  92 non-null     float64\n",
      " 2   Fat_age    92 non-null     float64\n",
      " 3   BMI        92 non-null     float64\n",
      "dtypes: float64(4)\n",
      "memory usage: 3.0 KB\n"
     ]
    }
   ],
   "source": [
    "# Display dataset information\n",
    "\n",
    "BMI.info()"
   ]
  },
  {
   "cell_type": "code",
   "execution_count": 18,
   "metadata": {},
   "outputs": [],
   "source": [
    "# Identify the Independent and Target variables\n",
    "\n",
    "IndepVar = []\n",
    "for col in BMI.columns:\n",
    "    if col != 'BMI':\n",
    "        IndepVar.append(col)\n",
    "\n",
    "TargetVar = 'BMI'\n",
    "\n",
    "x = BMI[IndepVar]\n",
    "y = BMI[TargetVar]"
   ]
  },
  {
   "cell_type": "code",
   "execution_count": 19,
   "metadata": {},
   "outputs": [],
   "source": [
    "# Split the data into train and test sets\n",
    "\n",
    "from sklearn.model_selection import train_test_split \n",
    "\n",
    "x_train, x_test, y_train, y_test = train_test_split(x, y, test_size=0.3, random_state=42)"
   ]
  },
  {
   "cell_type": "code",
   "execution_count": 20,
   "metadata": {},
   "outputs": [],
   "source": [
    "# Scaling the features by using MinMaxScaler\n",
    "\n",
    "from sklearn.preprocessing import MinMaxScaler\n",
    "\n",
    "mmscaler = MinMaxScaler(feature_range=(0, 1))\n",
    "\n",
    "x_train = mmscaler.fit_transform(x_train)\n",
    "x_train = pd.DataFrame(x_train)\n",
    "\n",
    "x_test = mmscaler.fit_transform(x_test)\n",
    "x_test = pd.DataFrame(x_test)"
   ]
  },
  {
   "cell_type": "markdown",
   "metadata": {},
   "source": [
    "# Linear Regression Algorithm"
   ]
  },
  {
   "cell_type": "code",
   "execution_count": 21,
   "metadata": {},
   "outputs": [
    {
     "data": {
      "text/plain": [
       "LinearRegression()"
      ]
     },
     "execution_count": 21,
     "metadata": {},
     "output_type": "execute_result"
    }
   ],
   "source": [
    "# Train the algorithm and build the model with train dataset\n",
    "\n",
    "from sklearn.linear_model import LinearRegression\n",
    "\n",
    "# Create model object\n",
    "\n",
    "MulRGR = LinearRegression()\n",
    "\n",
    "#LinearRegression(fit_intercept=True, normalize='deprecated', copy_X=True, n_jobs=None, positive=False)\n",
    "\n",
    "# Train the model with training dataset (70%)\n",
    "\n",
    "MulRGR.fit(x_train, y_train)"
   ]
  },
  {
   "cell_type": "code",
   "execution_count": 22,
   "metadata": {},
   "outputs": [],
   "source": [
    "# Predict the model with test dataset\n",
    "\n",
    "y_pred = MulRGR.predict(x_test)"
   ]
  },
  {
   "cell_type": "code",
   "execution_count": 23,
   "metadata": {},
   "outputs": [
    {
     "name": "stdout",
     "output_type": "stream",
     "text": [
      "Mean Absolute Error (MAE): 1.396\n",
      "Mean Squared Error (MSE): 3.728\n",
      "Root Mean Squared Error (RMSE): 1.931\n",
      "R2_score: 0.750061\n",
      "Root Mean Squared Log Error (RMSLE): 0.658\n"
     ]
    }
   ],
   "source": [
    "# Evaluation metrics for Regression analysis\n",
    "\n",
    "from sklearn import metrics\n",
    "\n",
    "print('Mean Absolute Error (MAE):', round(metrics.mean_absolute_error(y_test, y_pred),3))  \n",
    "print('Mean Squared Error (MSE):', round(metrics.mean_squared_error(y_test, y_pred),3))  \n",
    "print('Root Mean Squared Error (RMSE):', round(np.sqrt(metrics.mean_squared_error(y_test, y_pred)),3))\n",
    "print('R2_score:', round(metrics.r2_score(y_test, y_pred),6))\n",
    "print('Root Mean Squared Log Error (RMSLE):', round(np.log(np.sqrt(metrics.mean_squared_error(y_test, y_pred))),3))"
   ]
  },
  {
   "cell_type": "code",
   "execution_count": 24,
   "metadata": {},
   "outputs": [
    {
     "name": "stdout",
     "output_type": "stream",
     "text": [
      "Mean Absolute Percentage Error (MAPE): 5.843 %\n"
     ]
    }
   ],
   "source": [
    "# Define the function to calculate the MAPE - Mean Absolute Percentage Error\n",
    "\n",
    "def MAPE (y_test, y_pred): \n",
    "    y_test, y_pred = np.array(y_test), np.array(y_pred)\n",
    "    return np.mean(np.abs((y_test - y_pred) / y_test)) * 100\n",
    "\n",
    "# Evaluation of MAPE \n",
    "\n",
    "result = MAPE(y_test, y_pred)\n",
    "print('Mean Absolute Percentage Error (MAPE):', round(result, 3), '%')"
   ]
  },
  {
   "cell_type": "code",
   "execution_count": 25,
   "metadata": {},
   "outputs": [
    {
     "name": "stdout",
     "output_type": "stream",
     "text": [
      "Adj R Square:  0.74154\n"
     ]
    }
   ],
   "source": [
    "# Calculate Adjusted R squared values \n",
    "\n",
    "r_squared = round(metrics.r2_score(y_test, y_pred),6)\n",
    "adjusted_r_squared = round(1 - (1-r_squared)*(len(y)-1)/(len(y)-x.shape[1]-1),6)\n",
    "print('Adj R Square: ', adjusted_r_squared)"
   ]
  },
  {
   "cell_type": "code",
   "execution_count": 26,
   "metadata": {},
   "outputs": [
    {
     "data": {
      "text/html": [
       "<div>\n",
       "<style scoped>\n",
       "    .dataframe tbody tr th:only-of-type {\n",
       "        vertical-align: middle;\n",
       "    }\n",
       "\n",
       "    .dataframe tbody tr th {\n",
       "        vertical-align: top;\n",
       "    }\n",
       "\n",
       "    .dataframe thead th {\n",
       "        text-align: right;\n",
       "    }\n",
       "</style>\n",
       "<table border=\"1\" class=\"dataframe\">\n",
       "  <thead>\n",
       "    <tr style=\"text-align: right;\">\n",
       "      <th></th>\n",
       "      <th>Height_M</th>\n",
       "      <th>Weight_kg</th>\n",
       "      <th>Fat_age</th>\n",
       "      <th>BMI</th>\n",
       "      <th>BMI_A</th>\n",
       "      <th>BMI_P</th>\n",
       "    </tr>\n",
       "  </thead>\n",
       "  <tbody>\n",
       "    <tr>\n",
       "      <th>26</th>\n",
       "      <td>1.50</td>\n",
       "      <td>37.31</td>\n",
       "      <td>18.1</td>\n",
       "      <td>16.61</td>\n",
       "      <td>16.61</td>\n",
       "      <td>15.760862</td>\n",
       "    </tr>\n",
       "    <tr>\n",
       "      <th>55</th>\n",
       "      <td>1.49</td>\n",
       "      <td>58.29</td>\n",
       "      <td>36.7</td>\n",
       "      <td>26.17</td>\n",
       "      <td>26.17</td>\n",
       "      <td>29.040753</td>\n",
       "    </tr>\n",
       "    <tr>\n",
       "      <th>69</th>\n",
       "      <td>1.61</td>\n",
       "      <td>63.96</td>\n",
       "      <td>32.2</td>\n",
       "      <td>24.78</td>\n",
       "      <td>24.78</td>\n",
       "      <td>27.967417</td>\n",
       "    </tr>\n",
       "    <tr>\n",
       "      <th>4</th>\n",
       "      <td>1.45</td>\n",
       "      <td>43.09</td>\n",
       "      <td>22.5</td>\n",
       "      <td>20.38</td>\n",
       "      <td>20.38</td>\n",
       "      <td>20.969404</td>\n",
       "    </tr>\n",
       "    <tr>\n",
       "      <th>83</th>\n",
       "      <td>1.47</td>\n",
       "      <td>39.46</td>\n",
       "      <td>18.3</td>\n",
       "      <td>18.18</td>\n",
       "      <td>18.18</td>\n",
       "      <td>18.001878</td>\n",
       "    </tr>\n",
       "  </tbody>\n",
       "</table>\n",
       "</div>"
      ],
      "text/plain": [
       "    Height_M  Weight_kg  Fat_age    BMI  BMI_A      BMI_P\n",
       "26      1.50      37.31     18.1  16.61  16.61  15.760862\n",
       "55      1.49      58.29     36.7  26.17  26.17  29.040753\n",
       "69      1.61      63.96     32.2  24.78  24.78  27.967417\n",
       "4       1.45      43.09     22.5  20.38  20.38  20.969404\n",
       "83      1.47      39.46     18.3  18.18  18.18  18.001878"
      ]
     },
     "execution_count": 26,
     "metadata": {},
     "output_type": "execute_result"
    }
   ],
   "source": [
    "Results = pd.DataFrame({'BMI_A':y_test, 'BMI_P':y_pred})\n",
    "\n",
    "# Merge two Dataframes on index of both the dataframes\n",
    "\n",
    "ResultsFinal = BMI_bk.merge(Results, left_index=True, right_index=True)\n",
    "ResultsFinal.sample(5)"
   ]
  },
  {
   "cell_type": "code",
   "execution_count": null,
   "metadata": {},
   "outputs": [],
   "source": []
  }
 ],
 "metadata": {
  "kernelspec": {
   "display_name": "Python 3 (ipykernel)",
   "language": "python",
   "name": "python3"
  },
  "language_info": {
   "codemirror_mode": {
    "name": "ipython",
    "version": 3
   },
   "file_extension": ".py",
   "mimetype": "text/x-python",
   "name": "python",
   "nbconvert_exporter": "python",
   "pygments_lexer": "ipython3",
   "version": "3.9.13"
  }
 },
 "nbformat": 4,
 "nbformat_minor": 4
}
